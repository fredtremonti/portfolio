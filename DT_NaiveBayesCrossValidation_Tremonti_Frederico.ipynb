{
  "nbformat": 4,
  "nbformat_minor": 0,
  "metadata": {
    "colab": {
      "name": "DT_NaiveBayesCrossValidation_Tremonti_Frederico.ipynb",
      "provenance": []
    },
    "kernelspec": {
      "name": "python3",
      "display_name": "Python 3"
    },
    "language_info": {
      "name": "python"
    }
  },
  "cells": [
    {
      "cell_type": "markdown",
      "source": [
        "#Decision Tree and Naive Bayes Cross-Validation"
      ],
      "metadata": {
        "id": "XzQMje1LKG_b"
      }
    },
    {
      "cell_type": "markdown",
      "source": [
        "###Author: Frederico Tremonti\n"
      ],
      "metadata": {
        "id": "1hcFildkjH-g"
      }
    },
    {
      "cell_type": "markdown",
      "source": [
        "#Task I: Data Exploration and Preparation"
      ],
      "metadata": {
        "id": "W8dEmTFUjFDr"
      }
    },
    {
      "cell_type": "code",
      "source": [
        "import pandas as pd\n",
        "import numpy as np\n",
        "from matplotlib import pyplot as plt\n",
        "from google.colab import drive\n",
        "\n",
        "from sklearn.model_selection import train_test_split, cross_validate\n",
        "from sklearn.tree import DecisionTreeClassifier, export_text, plot_tree\n",
        "from sklearn.metrics import ConfusionMatrixDisplay, confusion_matrix, classification_report\n",
        "from sklearn.naive_bayes import CategoricalNB\n",
        "\n",
        "\n",
        "drive.mount('/content/drive')"
      ],
      "metadata": {
        "colab": {
          "base_uri": "https://localhost:8080/"
        },
        "id": "uHpeyunljRjU",
        "outputId": "0b1e3315-6a53-42fe-e044-58e83fb18efc"
      },
      "execution_count": 1,
      "outputs": [
        {
          "output_type": "stream",
          "name": "stdout",
          "text": [
            "Mounted at /content/drive\n"
          ]
        }
      ]
    },
    {
      "cell_type": "code",
      "source": [
        "df = pd.read_csv('/content/drive/MyDrive/IS4482_DataSets/CD_additional_modified-v2.csv')"
      ],
      "metadata": {
        "id": "ZH3Q_J1qjZHC"
      },
      "execution_count": 2,
      "outputs": []
    },
    {
      "cell_type": "markdown",
      "source": [
        "#### High-Level Analysis of the Dataset"
      ],
      "metadata": {
        "id": "z1sibm0Wjbkx"
      }
    },
    {
      "cell_type": "code",
      "source": [
        "df.info()"
      ],
      "metadata": {
        "colab": {
          "base_uri": "https://localhost:8080/"
        },
        "id": "W8vO9UHCjdiq",
        "outputId": "65ffbab3-fb8f-474d-9208-73bb3827a098"
      },
      "execution_count": 3,
      "outputs": [
        {
          "output_type": "stream",
          "name": "stdout",
          "text": [
            "<class 'pandas.core.frame.DataFrame'>\n",
            "RangeIndex: 4117 entries, 0 to 4116\n",
            "Data columns (total 22 columns):\n",
            " #   Column          Non-Null Count  Dtype  \n",
            "---  ------          --------------  -----  \n",
            " 0   Unnamed: 0      4117 non-null   int64  \n",
            " 1   age             4117 non-null   int64  \n",
            " 2   job             4117 non-null   object \n",
            " 3   marital         4117 non-null   object \n",
            " 4   education       4117 non-null   object \n",
            " 5   default         4117 non-null   object \n",
            " 6   housing         4117 non-null   object \n",
            " 7   loan            4117 non-null   object \n",
            " 8   contact         4117 non-null   object \n",
            " 9   month           4117 non-null   object \n",
            " 10  day_of_week     4117 non-null   object \n",
            " 11  duration        4117 non-null   int64  \n",
            " 12  campaign        4117 non-null   int64  \n",
            " 13  pdays           4117 non-null   int64  \n",
            " 14  previous        4117 non-null   int64  \n",
            " 15  poutcome        4117 non-null   object \n",
            " 16  emp_var_rate    4117 non-null   float64\n",
            " 17  cons_price_idx  4117 non-null   float64\n",
            " 18  cons_conf_idx   4117 non-null   float64\n",
            " 19  euribor3m       4117 non-null   float64\n",
            " 20  nr_employed     4117 non-null   float64\n",
            " 21  y               4117 non-null   object \n",
            "dtypes: float64(5), int64(6), object(11)\n",
            "memory usage: 707.7+ KB\n"
          ]
        }
      ]
    },
    {
      "cell_type": "code",
      "source": [
        "#Removing numeric features from any dataframe\n",
        "no_numeric_values = []\n",
        "for column in df.columns:\n",
        "  if df[column].dtype != 'int64' and df[column].dtype != 'float64':\n",
        "    no_numeric_values.append(column)\n",
        "df = df[no_numeric_values]"
      ],
      "metadata": {
        "id": "ZGXhAhbHjfg5"
      },
      "execution_count": 4,
      "outputs": []
    },
    {
      "cell_type": "code",
      "source": [
        "df.info()"
      ],
      "metadata": {
        "colab": {
          "base_uri": "https://localhost:8080/"
        },
        "id": "0Ep0AaaGjoJa",
        "outputId": "c9669794-5c24-46aa-ab8a-f0f065b92bbc"
      },
      "execution_count": 5,
      "outputs": [
        {
          "output_type": "stream",
          "name": "stdout",
          "text": [
            "<class 'pandas.core.frame.DataFrame'>\n",
            "RangeIndex: 4117 entries, 0 to 4116\n",
            "Data columns (total 11 columns):\n",
            " #   Column       Non-Null Count  Dtype \n",
            "---  ------       --------------  ----- \n",
            " 0   job          4117 non-null   object\n",
            " 1   marital      4117 non-null   object\n",
            " 2   education    4117 non-null   object\n",
            " 3   default      4117 non-null   object\n",
            " 4   housing      4117 non-null   object\n",
            " 5   loan         4117 non-null   object\n",
            " 6   contact      4117 non-null   object\n",
            " 7   month        4117 non-null   object\n",
            " 8   day_of_week  4117 non-null   object\n",
            " 9   poutcome     4117 non-null   object\n",
            " 10  y            4117 non-null   object\n",
            "dtypes: object(11)\n",
            "memory usage: 353.9+ KB\n"
          ]
        }
      ]
    },
    {
      "cell_type": "code",
      "source": [
        "y_target = df.pop('y')"
      ],
      "metadata": {
        "id": "E5I3E5ZHkibU"
      },
      "execution_count": 6,
      "outputs": []
    },
    {
      "cell_type": "code",
      "source": [
        "y_target = pd.get_dummies(y_target, drop_first=True)"
      ],
      "metadata": {
        "id": "g_onnEqBkpzp"
      },
      "execution_count": 7,
      "outputs": []
    },
    {
      "cell_type": "code",
      "source": [
        "df['y_target'] = y_target"
      ],
      "metadata": {
        "id": "uBqY7kdEkvLS",
        "colab": {
          "base_uri": "https://localhost:8080/"
        },
        "outputId": "01ed0ea1-0d2c-44c3-b09c-d1626ca8f7e1"
      },
      "execution_count": 8,
      "outputs": [
        {
          "output_type": "stream",
          "name": "stderr",
          "text": [
            "/usr/local/lib/python3.7/dist-packages/ipykernel_launcher.py:1: SettingWithCopyWarning: \n",
            "A value is trying to be set on a copy of a slice from a DataFrame.\n",
            "Try using .loc[row_indexer,col_indexer] = value instead\n",
            "\n",
            "See the caveats in the documentation: https://pandas.pydata.org/pandas-docs/stable/user_guide/indexing.html#returning-a-view-versus-a-copy\n",
            "  \"\"\"Entry point for launching an IPython kernel.\n"
          ]
        }
      ]
    },
    {
      "cell_type": "code",
      "source": [
        "df.info()"
      ],
      "metadata": {
        "colab": {
          "base_uri": "https://localhost:8080/"
        },
        "id": "oyQLJ4QUk1UF",
        "outputId": "bbe9a55c-8e0f-47e1-a185-b19476915dbb"
      },
      "execution_count": 9,
      "outputs": [
        {
          "output_type": "stream",
          "name": "stdout",
          "text": [
            "<class 'pandas.core.frame.DataFrame'>\n",
            "RangeIndex: 4117 entries, 0 to 4116\n",
            "Data columns (total 11 columns):\n",
            " #   Column       Non-Null Count  Dtype \n",
            "---  ------       --------------  ----- \n",
            " 0   job          4117 non-null   object\n",
            " 1   marital      4117 non-null   object\n",
            " 2   education    4117 non-null   object\n",
            " 3   default      4117 non-null   object\n",
            " 4   housing      4117 non-null   object\n",
            " 5   loan         4117 non-null   object\n",
            " 6   contact      4117 non-null   object\n",
            " 7   month        4117 non-null   object\n",
            " 8   day_of_week  4117 non-null   object\n",
            " 9   poutcome     4117 non-null   object\n",
            " 10  y_target     4117 non-null   uint8 \n",
            "dtypes: object(10), uint8(1)\n",
            "memory usage: 325.8+ KB\n"
          ]
        }
      ]
    },
    {
      "cell_type": "code",
      "source": [
        "df.describe(include='all')"
      ],
      "metadata": {
        "colab": {
          "base_uri": "https://localhost:8080/",
          "height": 395
        },
        "id": "55qthtL9k561",
        "outputId": "4ab81ab8-b985-42d7-d619-e74511d0421b"
      },
      "execution_count": 10,
      "outputs": [
        {
          "output_type": "execute_result",
          "data": {
            "text/plain": [
              "           job  marital          education default housing  loan   contact  \\\n",
              "count     4117     4117               4117    4117    4117  4117      4117   \n",
              "unique      12        4                  7       2       3     3         2   \n",
              "top     admin.  married  university.degree      no     yes    no  cellular   \n",
              "freq      1012     2508               1264    3314    2175  3347      2650   \n",
              "mean       NaN      NaN                NaN     NaN     NaN   NaN       NaN   \n",
              "std        NaN      NaN                NaN     NaN     NaN   NaN       NaN   \n",
              "min        NaN      NaN                NaN     NaN     NaN   NaN       NaN   \n",
              "25%        NaN      NaN                NaN     NaN     NaN   NaN       NaN   \n",
              "50%        NaN      NaN                NaN     NaN     NaN   NaN       NaN   \n",
              "75%        NaN      NaN                NaN     NaN     NaN   NaN       NaN   \n",
              "max        NaN      NaN                NaN     NaN     NaN   NaN       NaN   \n",
              "\n",
              "       month day_of_week     poutcome     y_target  \n",
              "count   4117        4117         4117  4117.000000  \n",
              "unique    10           5            3          NaN  \n",
              "top      may         thu  nonexistent          NaN  \n",
              "freq    1378         860         3522          NaN  \n",
              "mean     NaN         NaN          NaN     0.109546  \n",
              "std      NaN         NaN          NaN     0.312361  \n",
              "min      NaN         NaN          NaN     0.000000  \n",
              "25%      NaN         NaN          NaN     0.000000  \n",
              "50%      NaN         NaN          NaN     0.000000  \n",
              "75%      NaN         NaN          NaN     0.000000  \n",
              "max      NaN         NaN          NaN     1.000000  "
            ],
            "text/html": [
              "\n",
              "  <div id=\"df-ddb4c92c-daa4-4e39-a4d8-8461202b637f\">\n",
              "    <div class=\"colab-df-container\">\n",
              "      <div>\n",
              "<style scoped>\n",
              "    .dataframe tbody tr th:only-of-type {\n",
              "        vertical-align: middle;\n",
              "    }\n",
              "\n",
              "    .dataframe tbody tr th {\n",
              "        vertical-align: top;\n",
              "    }\n",
              "\n",
              "    .dataframe thead th {\n",
              "        text-align: right;\n",
              "    }\n",
              "</style>\n",
              "<table border=\"1\" class=\"dataframe\">\n",
              "  <thead>\n",
              "    <tr style=\"text-align: right;\">\n",
              "      <th></th>\n",
              "      <th>job</th>\n",
              "      <th>marital</th>\n",
              "      <th>education</th>\n",
              "      <th>default</th>\n",
              "      <th>housing</th>\n",
              "      <th>loan</th>\n",
              "      <th>contact</th>\n",
              "      <th>month</th>\n",
              "      <th>day_of_week</th>\n",
              "      <th>poutcome</th>\n",
              "      <th>y_target</th>\n",
              "    </tr>\n",
              "  </thead>\n",
              "  <tbody>\n",
              "    <tr>\n",
              "      <th>count</th>\n",
              "      <td>4117</td>\n",
              "      <td>4117</td>\n",
              "      <td>4117</td>\n",
              "      <td>4117</td>\n",
              "      <td>4117</td>\n",
              "      <td>4117</td>\n",
              "      <td>4117</td>\n",
              "      <td>4117</td>\n",
              "      <td>4117</td>\n",
              "      <td>4117</td>\n",
              "      <td>4117.000000</td>\n",
              "    </tr>\n",
              "    <tr>\n",
              "      <th>unique</th>\n",
              "      <td>12</td>\n",
              "      <td>4</td>\n",
              "      <td>7</td>\n",
              "      <td>2</td>\n",
              "      <td>3</td>\n",
              "      <td>3</td>\n",
              "      <td>2</td>\n",
              "      <td>10</td>\n",
              "      <td>5</td>\n",
              "      <td>3</td>\n",
              "      <td>NaN</td>\n",
              "    </tr>\n",
              "    <tr>\n",
              "      <th>top</th>\n",
              "      <td>admin.</td>\n",
              "      <td>married</td>\n",
              "      <td>university.degree</td>\n",
              "      <td>no</td>\n",
              "      <td>yes</td>\n",
              "      <td>no</td>\n",
              "      <td>cellular</td>\n",
              "      <td>may</td>\n",
              "      <td>thu</td>\n",
              "      <td>nonexistent</td>\n",
              "      <td>NaN</td>\n",
              "    </tr>\n",
              "    <tr>\n",
              "      <th>freq</th>\n",
              "      <td>1012</td>\n",
              "      <td>2508</td>\n",
              "      <td>1264</td>\n",
              "      <td>3314</td>\n",
              "      <td>2175</td>\n",
              "      <td>3347</td>\n",
              "      <td>2650</td>\n",
              "      <td>1378</td>\n",
              "      <td>860</td>\n",
              "      <td>3522</td>\n",
              "      <td>NaN</td>\n",
              "    </tr>\n",
              "    <tr>\n",
              "      <th>mean</th>\n",
              "      <td>NaN</td>\n",
              "      <td>NaN</td>\n",
              "      <td>NaN</td>\n",
              "      <td>NaN</td>\n",
              "      <td>NaN</td>\n",
              "      <td>NaN</td>\n",
              "      <td>NaN</td>\n",
              "      <td>NaN</td>\n",
              "      <td>NaN</td>\n",
              "      <td>NaN</td>\n",
              "      <td>0.109546</td>\n",
              "    </tr>\n",
              "    <tr>\n",
              "      <th>std</th>\n",
              "      <td>NaN</td>\n",
              "      <td>NaN</td>\n",
              "      <td>NaN</td>\n",
              "      <td>NaN</td>\n",
              "      <td>NaN</td>\n",
              "      <td>NaN</td>\n",
              "      <td>NaN</td>\n",
              "      <td>NaN</td>\n",
              "      <td>NaN</td>\n",
              "      <td>NaN</td>\n",
              "      <td>0.312361</td>\n",
              "    </tr>\n",
              "    <tr>\n",
              "      <th>min</th>\n",
              "      <td>NaN</td>\n",
              "      <td>NaN</td>\n",
              "      <td>NaN</td>\n",
              "      <td>NaN</td>\n",
              "      <td>NaN</td>\n",
              "      <td>NaN</td>\n",
              "      <td>NaN</td>\n",
              "      <td>NaN</td>\n",
              "      <td>NaN</td>\n",
              "      <td>NaN</td>\n",
              "      <td>0.000000</td>\n",
              "    </tr>\n",
              "    <tr>\n",
              "      <th>25%</th>\n",
              "      <td>NaN</td>\n",
              "      <td>NaN</td>\n",
              "      <td>NaN</td>\n",
              "      <td>NaN</td>\n",
              "      <td>NaN</td>\n",
              "      <td>NaN</td>\n",
              "      <td>NaN</td>\n",
              "      <td>NaN</td>\n",
              "      <td>NaN</td>\n",
              "      <td>NaN</td>\n",
              "      <td>0.000000</td>\n",
              "    </tr>\n",
              "    <tr>\n",
              "      <th>50%</th>\n",
              "      <td>NaN</td>\n",
              "      <td>NaN</td>\n",
              "      <td>NaN</td>\n",
              "      <td>NaN</td>\n",
              "      <td>NaN</td>\n",
              "      <td>NaN</td>\n",
              "      <td>NaN</td>\n",
              "      <td>NaN</td>\n",
              "      <td>NaN</td>\n",
              "      <td>NaN</td>\n",
              "      <td>0.000000</td>\n",
              "    </tr>\n",
              "    <tr>\n",
              "      <th>75%</th>\n",
              "      <td>NaN</td>\n",
              "      <td>NaN</td>\n",
              "      <td>NaN</td>\n",
              "      <td>NaN</td>\n",
              "      <td>NaN</td>\n",
              "      <td>NaN</td>\n",
              "      <td>NaN</td>\n",
              "      <td>NaN</td>\n",
              "      <td>NaN</td>\n",
              "      <td>NaN</td>\n",
              "      <td>0.000000</td>\n",
              "    </tr>\n",
              "    <tr>\n",
              "      <th>max</th>\n",
              "      <td>NaN</td>\n",
              "      <td>NaN</td>\n",
              "      <td>NaN</td>\n",
              "      <td>NaN</td>\n",
              "      <td>NaN</td>\n",
              "      <td>NaN</td>\n",
              "      <td>NaN</td>\n",
              "      <td>NaN</td>\n",
              "      <td>NaN</td>\n",
              "      <td>NaN</td>\n",
              "      <td>1.000000</td>\n",
              "    </tr>\n",
              "  </tbody>\n",
              "</table>\n",
              "</div>\n",
              "      <button class=\"colab-df-convert\" onclick=\"convertToInteractive('df-ddb4c92c-daa4-4e39-a4d8-8461202b637f')\"\n",
              "              title=\"Convert this dataframe to an interactive table.\"\n",
              "              style=\"display:none;\">\n",
              "        \n",
              "  <svg xmlns=\"http://www.w3.org/2000/svg\" height=\"24px\"viewBox=\"0 0 24 24\"\n",
              "       width=\"24px\">\n",
              "    <path d=\"M0 0h24v24H0V0z\" fill=\"none\"/>\n",
              "    <path d=\"M18.56 5.44l.94 2.06.94-2.06 2.06-.94-2.06-.94-.94-2.06-.94 2.06-2.06.94zm-11 1L8.5 8.5l.94-2.06 2.06-.94-2.06-.94L8.5 2.5l-.94 2.06-2.06.94zm10 10l.94 2.06.94-2.06 2.06-.94-2.06-.94-.94-2.06-.94 2.06-2.06.94z\"/><path d=\"M17.41 7.96l-1.37-1.37c-.4-.4-.92-.59-1.43-.59-.52 0-1.04.2-1.43.59L10.3 9.45l-7.72 7.72c-.78.78-.78 2.05 0 2.83L4 21.41c.39.39.9.59 1.41.59.51 0 1.02-.2 1.41-.59l7.78-7.78 2.81-2.81c.8-.78.8-2.07 0-2.86zM5.41 20L4 18.59l7.72-7.72 1.47 1.35L5.41 20z\"/>\n",
              "  </svg>\n",
              "      </button>\n",
              "      \n",
              "  <style>\n",
              "    .colab-df-container {\n",
              "      display:flex;\n",
              "      flex-wrap:wrap;\n",
              "      gap: 12px;\n",
              "    }\n",
              "\n",
              "    .colab-df-convert {\n",
              "      background-color: #E8F0FE;\n",
              "      border: none;\n",
              "      border-radius: 50%;\n",
              "      cursor: pointer;\n",
              "      display: none;\n",
              "      fill: #1967D2;\n",
              "      height: 32px;\n",
              "      padding: 0 0 0 0;\n",
              "      width: 32px;\n",
              "    }\n",
              "\n",
              "    .colab-df-convert:hover {\n",
              "      background-color: #E2EBFA;\n",
              "      box-shadow: 0px 1px 2px rgba(60, 64, 67, 0.3), 0px 1px 3px 1px rgba(60, 64, 67, 0.15);\n",
              "      fill: #174EA6;\n",
              "    }\n",
              "\n",
              "    [theme=dark] .colab-df-convert {\n",
              "      background-color: #3B4455;\n",
              "      fill: #D2E3FC;\n",
              "    }\n",
              "\n",
              "    [theme=dark] .colab-df-convert:hover {\n",
              "      background-color: #434B5C;\n",
              "      box-shadow: 0px 1px 3px 1px rgba(0, 0, 0, 0.15);\n",
              "      filter: drop-shadow(0px 1px 2px rgba(0, 0, 0, 0.3));\n",
              "      fill: #FFFFFF;\n",
              "    }\n",
              "  </style>\n",
              "\n",
              "      <script>\n",
              "        const buttonEl =\n",
              "          document.querySelector('#df-ddb4c92c-daa4-4e39-a4d8-8461202b637f button.colab-df-convert');\n",
              "        buttonEl.style.display =\n",
              "          google.colab.kernel.accessAllowed ? 'block' : 'none';\n",
              "\n",
              "        async function convertToInteractive(key) {\n",
              "          const element = document.querySelector('#df-ddb4c92c-daa4-4e39-a4d8-8461202b637f');\n",
              "          const dataTable =\n",
              "            await google.colab.kernel.invokeFunction('convertToInteractive',\n",
              "                                                     [key], {});\n",
              "          if (!dataTable) return;\n",
              "\n",
              "          const docLinkHtml = 'Like what you see? Visit the ' +\n",
              "            '<a target=\"_blank\" href=https://colab.research.google.com/notebooks/data_table.ipynb>data table notebook</a>'\n",
              "            + ' to learn more about interactive tables.';\n",
              "          element.innerHTML = '';\n",
              "          dataTable['output_type'] = 'display_data';\n",
              "          await google.colab.output.renderOutput(dataTable, element);\n",
              "          const docLink = document.createElement('div');\n",
              "          docLink.innerHTML = docLinkHtml;\n",
              "          element.appendChild(docLink);\n",
              "        }\n",
              "      </script>\n",
              "    </div>\n",
              "  </div>\n",
              "  "
            ]
          },
          "metadata": {},
          "execution_count": 10
        }
      ]
    },
    {
      "cell_type": "code",
      "source": [
        "df.head(25)"
      ],
      "metadata": {
        "colab": {
          "base_uri": "https://localhost:8080/",
          "height": 833
        },
        "id": "NHDHIxBck9oZ",
        "outputId": "c9dcbee5-5ff7-40ee-fed0-e1cbec1c092e"
      },
      "execution_count": 11,
      "outputs": [
        {
          "output_type": "execute_result",
          "data": {
            "text/plain": [
              "              job   marital            education  default  housing     loan  \\\n",
              "0     blue-collar   married             basic.9y       no      yes       no   \n",
              "1        services    single          high.school       no       no       no   \n",
              "2        services   married          high.school       no      yes       no   \n",
              "3        services   married             basic.9y       no  unknown  unknown   \n",
              "4          admin.   married    university.degree       no      yes       no   \n",
              "5        services    single    university.degree       no       no       no   \n",
              "6          admin.    single    university.degree       no      yes       no   \n",
              "7    entrepreneur   married    university.degree  unknown      yes       no   \n",
              "8        services  divorced  professional.course       no       no       no   \n",
              "9     blue-collar   married             basic.9y  unknown       no       no   \n",
              "10       services    single             basic.6y  unknown      yes       no   \n",
              "11  self-employed    single             basic.4y       no       no       no   \n",
              "12         admin.   married          high.school       no       no       no   \n",
              "13    blue-collar   married             basic.4y       no      yes       no   \n",
              "14         admin.    single          high.school       no       no       no   \n",
              "15       services    single    university.degree       no       no       no   \n",
              "16         admin.  divorced    university.degree       no       no       no   \n",
              "17         admin.  divorced    university.degree       no      yes       no   \n",
              "18   entrepreneur   married    university.degree  unknown      yes      yes   \n",
              "19    blue-collar   married             basic.4y       no       no      yes   \n",
              "20       services   married             basic.6y  unknown      yes       no   \n",
              "21     technician  divorced          high.school       no       no       no   \n",
              "22     technician    single    university.degree       no      yes      yes   \n",
              "23     management   married          high.school       no       no      yes   \n",
              "24     technician   married  professional.course  unknown      yes       no   \n",
              "\n",
              "      contact month day_of_week     poutcome  y_target  \n",
              "0    cellular   may         fri  nonexistent         0  \n",
              "1   telephone   may         fri  nonexistent         0  \n",
              "2   telephone   jun         wed  nonexistent         0  \n",
              "3   telephone   jun         fri  nonexistent         0  \n",
              "4    cellular   nov         mon  nonexistent         0  \n",
              "5    cellular   sep         thu      failure         0  \n",
              "6    cellular   sep         mon  nonexistent         0  \n",
              "7    cellular   nov         mon  nonexistent         0  \n",
              "8    cellular   nov         tue      failure         0  \n",
              "9   telephone   may         thu  nonexistent         0  \n",
              "10   cellular   jul         thu  nonexistent         0  \n",
              "11   cellular   jul         thu  nonexistent         0  \n",
              "12  telephone   may         wed  nonexistent         0  \n",
              "13  telephone   jun         thu  nonexistent         0  \n",
              "14   cellular   may         fri  nonexistent         0  \n",
              "15   cellular   jul         wed  nonexistent         0  \n",
              "16   cellular   jul         wed  nonexistent         0  \n",
              "17  telephone   jul         mon  nonexistent         0  \n",
              "18   cellular   aug         mon  nonexistent         0  \n",
              "19   cellular   jul         tue  nonexistent         1  \n",
              "20   cellular   jul         tue  nonexistent         0  \n",
              "21   cellular   mar         mon      success         1  \n",
              "22   cellular   aug         wed  nonexistent         0  \n",
              "23   cellular   aug         wed  nonexistent         0  \n",
              "24  telephone   may         fri  nonexistent         0  "
            ],
            "text/html": [
              "\n",
              "  <div id=\"df-b11548e5-b74e-47c5-b234-df1533eb70e6\">\n",
              "    <div class=\"colab-df-container\">\n",
              "      <div>\n",
              "<style scoped>\n",
              "    .dataframe tbody tr th:only-of-type {\n",
              "        vertical-align: middle;\n",
              "    }\n",
              "\n",
              "    .dataframe tbody tr th {\n",
              "        vertical-align: top;\n",
              "    }\n",
              "\n",
              "    .dataframe thead th {\n",
              "        text-align: right;\n",
              "    }\n",
              "</style>\n",
              "<table border=\"1\" class=\"dataframe\">\n",
              "  <thead>\n",
              "    <tr style=\"text-align: right;\">\n",
              "      <th></th>\n",
              "      <th>job</th>\n",
              "      <th>marital</th>\n",
              "      <th>education</th>\n",
              "      <th>default</th>\n",
              "      <th>housing</th>\n",
              "      <th>loan</th>\n",
              "      <th>contact</th>\n",
              "      <th>month</th>\n",
              "      <th>day_of_week</th>\n",
              "      <th>poutcome</th>\n",
              "      <th>y_target</th>\n",
              "    </tr>\n",
              "  </thead>\n",
              "  <tbody>\n",
              "    <tr>\n",
              "      <th>0</th>\n",
              "      <td>blue-collar</td>\n",
              "      <td>married</td>\n",
              "      <td>basic.9y</td>\n",
              "      <td>no</td>\n",
              "      <td>yes</td>\n",
              "      <td>no</td>\n",
              "      <td>cellular</td>\n",
              "      <td>may</td>\n",
              "      <td>fri</td>\n",
              "      <td>nonexistent</td>\n",
              "      <td>0</td>\n",
              "    </tr>\n",
              "    <tr>\n",
              "      <th>1</th>\n",
              "      <td>services</td>\n",
              "      <td>single</td>\n",
              "      <td>high.school</td>\n",
              "      <td>no</td>\n",
              "      <td>no</td>\n",
              "      <td>no</td>\n",
              "      <td>telephone</td>\n",
              "      <td>may</td>\n",
              "      <td>fri</td>\n",
              "      <td>nonexistent</td>\n",
              "      <td>0</td>\n",
              "    </tr>\n",
              "    <tr>\n",
              "      <th>2</th>\n",
              "      <td>services</td>\n",
              "      <td>married</td>\n",
              "      <td>high.school</td>\n",
              "      <td>no</td>\n",
              "      <td>yes</td>\n",
              "      <td>no</td>\n",
              "      <td>telephone</td>\n",
              "      <td>jun</td>\n",
              "      <td>wed</td>\n",
              "      <td>nonexistent</td>\n",
              "      <td>0</td>\n",
              "    </tr>\n",
              "    <tr>\n",
              "      <th>3</th>\n",
              "      <td>services</td>\n",
              "      <td>married</td>\n",
              "      <td>basic.9y</td>\n",
              "      <td>no</td>\n",
              "      <td>unknown</td>\n",
              "      <td>unknown</td>\n",
              "      <td>telephone</td>\n",
              "      <td>jun</td>\n",
              "      <td>fri</td>\n",
              "      <td>nonexistent</td>\n",
              "      <td>0</td>\n",
              "    </tr>\n",
              "    <tr>\n",
              "      <th>4</th>\n",
              "      <td>admin.</td>\n",
              "      <td>married</td>\n",
              "      <td>university.degree</td>\n",
              "      <td>no</td>\n",
              "      <td>yes</td>\n",
              "      <td>no</td>\n",
              "      <td>cellular</td>\n",
              "      <td>nov</td>\n",
              "      <td>mon</td>\n",
              "      <td>nonexistent</td>\n",
              "      <td>0</td>\n",
              "    </tr>\n",
              "    <tr>\n",
              "      <th>5</th>\n",
              "      <td>services</td>\n",
              "      <td>single</td>\n",
              "      <td>university.degree</td>\n",
              "      <td>no</td>\n",
              "      <td>no</td>\n",
              "      <td>no</td>\n",
              "      <td>cellular</td>\n",
              "      <td>sep</td>\n",
              "      <td>thu</td>\n",
              "      <td>failure</td>\n",
              "      <td>0</td>\n",
              "    </tr>\n",
              "    <tr>\n",
              "      <th>6</th>\n",
              "      <td>admin.</td>\n",
              "      <td>single</td>\n",
              "      <td>university.degree</td>\n",
              "      <td>no</td>\n",
              "      <td>yes</td>\n",
              "      <td>no</td>\n",
              "      <td>cellular</td>\n",
              "      <td>sep</td>\n",
              "      <td>mon</td>\n",
              "      <td>nonexistent</td>\n",
              "      <td>0</td>\n",
              "    </tr>\n",
              "    <tr>\n",
              "      <th>7</th>\n",
              "      <td>entrepreneur</td>\n",
              "      <td>married</td>\n",
              "      <td>university.degree</td>\n",
              "      <td>unknown</td>\n",
              "      <td>yes</td>\n",
              "      <td>no</td>\n",
              "      <td>cellular</td>\n",
              "      <td>nov</td>\n",
              "      <td>mon</td>\n",
              "      <td>nonexistent</td>\n",
              "      <td>0</td>\n",
              "    </tr>\n",
              "    <tr>\n",
              "      <th>8</th>\n",
              "      <td>services</td>\n",
              "      <td>divorced</td>\n",
              "      <td>professional.course</td>\n",
              "      <td>no</td>\n",
              "      <td>no</td>\n",
              "      <td>no</td>\n",
              "      <td>cellular</td>\n",
              "      <td>nov</td>\n",
              "      <td>tue</td>\n",
              "      <td>failure</td>\n",
              "      <td>0</td>\n",
              "    </tr>\n",
              "    <tr>\n",
              "      <th>9</th>\n",
              "      <td>blue-collar</td>\n",
              "      <td>married</td>\n",
              "      <td>basic.9y</td>\n",
              "      <td>unknown</td>\n",
              "      <td>no</td>\n",
              "      <td>no</td>\n",
              "      <td>telephone</td>\n",
              "      <td>may</td>\n",
              "      <td>thu</td>\n",
              "      <td>nonexistent</td>\n",
              "      <td>0</td>\n",
              "    </tr>\n",
              "    <tr>\n",
              "      <th>10</th>\n",
              "      <td>services</td>\n",
              "      <td>single</td>\n",
              "      <td>basic.6y</td>\n",
              "      <td>unknown</td>\n",
              "      <td>yes</td>\n",
              "      <td>no</td>\n",
              "      <td>cellular</td>\n",
              "      <td>jul</td>\n",
              "      <td>thu</td>\n",
              "      <td>nonexistent</td>\n",
              "      <td>0</td>\n",
              "    </tr>\n",
              "    <tr>\n",
              "      <th>11</th>\n",
              "      <td>self-employed</td>\n",
              "      <td>single</td>\n",
              "      <td>basic.4y</td>\n",
              "      <td>no</td>\n",
              "      <td>no</td>\n",
              "      <td>no</td>\n",
              "      <td>cellular</td>\n",
              "      <td>jul</td>\n",
              "      <td>thu</td>\n",
              "      <td>nonexistent</td>\n",
              "      <td>0</td>\n",
              "    </tr>\n",
              "    <tr>\n",
              "      <th>12</th>\n",
              "      <td>admin.</td>\n",
              "      <td>married</td>\n",
              "      <td>high.school</td>\n",
              "      <td>no</td>\n",
              "      <td>no</td>\n",
              "      <td>no</td>\n",
              "      <td>telephone</td>\n",
              "      <td>may</td>\n",
              "      <td>wed</td>\n",
              "      <td>nonexistent</td>\n",
              "      <td>0</td>\n",
              "    </tr>\n",
              "    <tr>\n",
              "      <th>13</th>\n",
              "      <td>blue-collar</td>\n",
              "      <td>married</td>\n",
              "      <td>basic.4y</td>\n",
              "      <td>no</td>\n",
              "      <td>yes</td>\n",
              "      <td>no</td>\n",
              "      <td>telephone</td>\n",
              "      <td>jun</td>\n",
              "      <td>thu</td>\n",
              "      <td>nonexistent</td>\n",
              "      <td>0</td>\n",
              "    </tr>\n",
              "    <tr>\n",
              "      <th>14</th>\n",
              "      <td>admin.</td>\n",
              "      <td>single</td>\n",
              "      <td>high.school</td>\n",
              "      <td>no</td>\n",
              "      <td>no</td>\n",
              "      <td>no</td>\n",
              "      <td>cellular</td>\n",
              "      <td>may</td>\n",
              "      <td>fri</td>\n",
              "      <td>nonexistent</td>\n",
              "      <td>0</td>\n",
              "    </tr>\n",
              "    <tr>\n",
              "      <th>15</th>\n",
              "      <td>services</td>\n",
              "      <td>single</td>\n",
              "      <td>university.degree</td>\n",
              "      <td>no</td>\n",
              "      <td>no</td>\n",
              "      <td>no</td>\n",
              "      <td>cellular</td>\n",
              "      <td>jul</td>\n",
              "      <td>wed</td>\n",
              "      <td>nonexistent</td>\n",
              "      <td>0</td>\n",
              "    </tr>\n",
              "    <tr>\n",
              "      <th>16</th>\n",
              "      <td>admin.</td>\n",
              "      <td>divorced</td>\n",
              "      <td>university.degree</td>\n",
              "      <td>no</td>\n",
              "      <td>no</td>\n",
              "      <td>no</td>\n",
              "      <td>cellular</td>\n",
              "      <td>jul</td>\n",
              "      <td>wed</td>\n",
              "      <td>nonexistent</td>\n",
              "      <td>0</td>\n",
              "    </tr>\n",
              "    <tr>\n",
              "      <th>17</th>\n",
              "      <td>admin.</td>\n",
              "      <td>divorced</td>\n",
              "      <td>university.degree</td>\n",
              "      <td>no</td>\n",
              "      <td>yes</td>\n",
              "      <td>no</td>\n",
              "      <td>telephone</td>\n",
              "      <td>jul</td>\n",
              "      <td>mon</td>\n",
              "      <td>nonexistent</td>\n",
              "      <td>0</td>\n",
              "    </tr>\n",
              "    <tr>\n",
              "      <th>18</th>\n",
              "      <td>entrepreneur</td>\n",
              "      <td>married</td>\n",
              "      <td>university.degree</td>\n",
              "      <td>unknown</td>\n",
              "      <td>yes</td>\n",
              "      <td>yes</td>\n",
              "      <td>cellular</td>\n",
              "      <td>aug</td>\n",
              "      <td>mon</td>\n",
              "      <td>nonexistent</td>\n",
              "      <td>0</td>\n",
              "    </tr>\n",
              "    <tr>\n",
              "      <th>19</th>\n",
              "      <td>blue-collar</td>\n",
              "      <td>married</td>\n",
              "      <td>basic.4y</td>\n",
              "      <td>no</td>\n",
              "      <td>no</td>\n",
              "      <td>yes</td>\n",
              "      <td>cellular</td>\n",
              "      <td>jul</td>\n",
              "      <td>tue</td>\n",
              "      <td>nonexistent</td>\n",
              "      <td>1</td>\n",
              "    </tr>\n",
              "    <tr>\n",
              "      <th>20</th>\n",
              "      <td>services</td>\n",
              "      <td>married</td>\n",
              "      <td>basic.6y</td>\n",
              "      <td>unknown</td>\n",
              "      <td>yes</td>\n",
              "      <td>no</td>\n",
              "      <td>cellular</td>\n",
              "      <td>jul</td>\n",
              "      <td>tue</td>\n",
              "      <td>nonexistent</td>\n",
              "      <td>0</td>\n",
              "    </tr>\n",
              "    <tr>\n",
              "      <th>21</th>\n",
              "      <td>technician</td>\n",
              "      <td>divorced</td>\n",
              "      <td>high.school</td>\n",
              "      <td>no</td>\n",
              "      <td>no</td>\n",
              "      <td>no</td>\n",
              "      <td>cellular</td>\n",
              "      <td>mar</td>\n",
              "      <td>mon</td>\n",
              "      <td>success</td>\n",
              "      <td>1</td>\n",
              "    </tr>\n",
              "    <tr>\n",
              "      <th>22</th>\n",
              "      <td>technician</td>\n",
              "      <td>single</td>\n",
              "      <td>university.degree</td>\n",
              "      <td>no</td>\n",
              "      <td>yes</td>\n",
              "      <td>yes</td>\n",
              "      <td>cellular</td>\n",
              "      <td>aug</td>\n",
              "      <td>wed</td>\n",
              "      <td>nonexistent</td>\n",
              "      <td>0</td>\n",
              "    </tr>\n",
              "    <tr>\n",
              "      <th>23</th>\n",
              "      <td>management</td>\n",
              "      <td>married</td>\n",
              "      <td>high.school</td>\n",
              "      <td>no</td>\n",
              "      <td>no</td>\n",
              "      <td>yes</td>\n",
              "      <td>cellular</td>\n",
              "      <td>aug</td>\n",
              "      <td>wed</td>\n",
              "      <td>nonexistent</td>\n",
              "      <td>0</td>\n",
              "    </tr>\n",
              "    <tr>\n",
              "      <th>24</th>\n",
              "      <td>technician</td>\n",
              "      <td>married</td>\n",
              "      <td>professional.course</td>\n",
              "      <td>unknown</td>\n",
              "      <td>yes</td>\n",
              "      <td>no</td>\n",
              "      <td>telephone</td>\n",
              "      <td>may</td>\n",
              "      <td>fri</td>\n",
              "      <td>nonexistent</td>\n",
              "      <td>0</td>\n",
              "    </tr>\n",
              "  </tbody>\n",
              "</table>\n",
              "</div>\n",
              "      <button class=\"colab-df-convert\" onclick=\"convertToInteractive('df-b11548e5-b74e-47c5-b234-df1533eb70e6')\"\n",
              "              title=\"Convert this dataframe to an interactive table.\"\n",
              "              style=\"display:none;\">\n",
              "        \n",
              "  <svg xmlns=\"http://www.w3.org/2000/svg\" height=\"24px\"viewBox=\"0 0 24 24\"\n",
              "       width=\"24px\">\n",
              "    <path d=\"M0 0h24v24H0V0z\" fill=\"none\"/>\n",
              "    <path d=\"M18.56 5.44l.94 2.06.94-2.06 2.06-.94-2.06-.94-.94-2.06-.94 2.06-2.06.94zm-11 1L8.5 8.5l.94-2.06 2.06-.94-2.06-.94L8.5 2.5l-.94 2.06-2.06.94zm10 10l.94 2.06.94-2.06 2.06-.94-2.06-.94-.94-2.06-.94 2.06-2.06.94z\"/><path d=\"M17.41 7.96l-1.37-1.37c-.4-.4-.92-.59-1.43-.59-.52 0-1.04.2-1.43.59L10.3 9.45l-7.72 7.72c-.78.78-.78 2.05 0 2.83L4 21.41c.39.39.9.59 1.41.59.51 0 1.02-.2 1.41-.59l7.78-7.78 2.81-2.81c.8-.78.8-2.07 0-2.86zM5.41 20L4 18.59l7.72-7.72 1.47 1.35L5.41 20z\"/>\n",
              "  </svg>\n",
              "      </button>\n",
              "      \n",
              "  <style>\n",
              "    .colab-df-container {\n",
              "      display:flex;\n",
              "      flex-wrap:wrap;\n",
              "      gap: 12px;\n",
              "    }\n",
              "\n",
              "    .colab-df-convert {\n",
              "      background-color: #E8F0FE;\n",
              "      border: none;\n",
              "      border-radius: 50%;\n",
              "      cursor: pointer;\n",
              "      display: none;\n",
              "      fill: #1967D2;\n",
              "      height: 32px;\n",
              "      padding: 0 0 0 0;\n",
              "      width: 32px;\n",
              "    }\n",
              "\n",
              "    .colab-df-convert:hover {\n",
              "      background-color: #E2EBFA;\n",
              "      box-shadow: 0px 1px 2px rgba(60, 64, 67, 0.3), 0px 1px 3px 1px rgba(60, 64, 67, 0.15);\n",
              "      fill: #174EA6;\n",
              "    }\n",
              "\n",
              "    [theme=dark] .colab-df-convert {\n",
              "      background-color: #3B4455;\n",
              "      fill: #D2E3FC;\n",
              "    }\n",
              "\n",
              "    [theme=dark] .colab-df-convert:hover {\n",
              "      background-color: #434B5C;\n",
              "      box-shadow: 0px 1px 3px 1px rgba(0, 0, 0, 0.15);\n",
              "      filter: drop-shadow(0px 1px 2px rgba(0, 0, 0, 0.3));\n",
              "      fill: #FFFFFF;\n",
              "    }\n",
              "  </style>\n",
              "\n",
              "      <script>\n",
              "        const buttonEl =\n",
              "          document.querySelector('#df-b11548e5-b74e-47c5-b234-df1533eb70e6 button.colab-df-convert');\n",
              "        buttonEl.style.display =\n",
              "          google.colab.kernel.accessAllowed ? 'block' : 'none';\n",
              "\n",
              "        async function convertToInteractive(key) {\n",
              "          const element = document.querySelector('#df-b11548e5-b74e-47c5-b234-df1533eb70e6');\n",
              "          const dataTable =\n",
              "            await google.colab.kernel.invokeFunction('convertToInteractive',\n",
              "                                                     [key], {});\n",
              "          if (!dataTable) return;\n",
              "\n",
              "          const docLinkHtml = 'Like what you see? Visit the ' +\n",
              "            '<a target=\"_blank\" href=https://colab.research.google.com/notebooks/data_table.ipynb>data table notebook</a>'\n",
              "            + ' to learn more about interactive tables.';\n",
              "          element.innerHTML = '';\n",
              "          dataTable['output_type'] = 'display_data';\n",
              "          await google.colab.output.renderOutput(dataTable, element);\n",
              "          const docLink = document.createElement('div');\n",
              "          docLink.innerHTML = docLinkHtml;\n",
              "          element.appendChild(docLink);\n",
              "        }\n",
              "      </script>\n",
              "    </div>\n",
              "  </div>\n",
              "  "
            ]
          },
          "metadata": {},
          "execution_count": 11
        }
      ]
    },
    {
      "cell_type": "markdown",
      "source": [
        "####Preparing Data for Train-Test Split"
      ],
      "metadata": {
        "id": "YnH2gRaXKtaG"
      }
    },
    {
      "cell_type": "code",
      "source": [
        "independent_variables = list(df.select_dtypes(include='object').columns)"
      ],
      "metadata": {
        "id": "7Zrn9hlzp-V2"
      },
      "execution_count": 12,
      "outputs": []
    },
    {
      "cell_type": "code",
      "source": [
        "independent_variables"
      ],
      "metadata": {
        "colab": {
          "base_uri": "https://localhost:8080/"
        },
        "id": "pfT0NmQ_qC3W",
        "outputId": "26e5a7c2-e578-444b-9189-4010b2df3149"
      },
      "execution_count": 13,
      "outputs": [
        {
          "output_type": "execute_result",
          "data": {
            "text/plain": [
              "['job',\n",
              " 'marital',\n",
              " 'education',\n",
              " 'default',\n",
              " 'housing',\n",
              " 'loan',\n",
              " 'contact',\n",
              " 'month',\n",
              " 'day_of_week',\n",
              " 'poutcome']"
            ]
          },
          "metadata": {},
          "execution_count": 13
        }
      ]
    },
    {
      "cell_type": "code",
      "source": [
        "df[independent_variables] = df[independent_variables].astype('category')"
      ],
      "metadata": {
        "id": "6WDRQ3xlroJ1"
      },
      "execution_count": 14,
      "outputs": []
    },
    {
      "cell_type": "code",
      "source": [
        "df.info()"
      ],
      "metadata": {
        "colab": {
          "base_uri": "https://localhost:8080/"
        },
        "id": "A8XxbrpArtgL",
        "outputId": "ff860601-b470-4b2e-cd96-36ee838c0695"
      },
      "execution_count": 15,
      "outputs": [
        {
          "output_type": "stream",
          "name": "stdout",
          "text": [
            "<class 'pandas.core.frame.DataFrame'>\n",
            "RangeIndex: 4117 entries, 0 to 4116\n",
            "Data columns (total 11 columns):\n",
            " #   Column       Non-Null Count  Dtype   \n",
            "---  ------       --------------  -----   \n",
            " 0   job          4117 non-null   category\n",
            " 1   marital      4117 non-null   category\n",
            " 2   education    4117 non-null   category\n",
            " 3   default      4117 non-null   category\n",
            " 4   housing      4117 non-null   category\n",
            " 5   loan         4117 non-null   category\n",
            " 6   contact      4117 non-null   category\n",
            " 7   month        4117 non-null   category\n",
            " 8   day_of_week  4117 non-null   category\n",
            " 9   poutcome     4117 non-null   category\n",
            " 10  y_target     4117 non-null   uint8   \n",
            "dtypes: category(10), uint8(1)\n",
            "memory usage: 46.5 KB\n"
          ]
        }
      ]
    },
    {
      "cell_type": "code",
      "source": [
        "df_onehot = pd.get_dummies(df, columns=independent_variables)"
      ],
      "metadata": {
        "id": "bfrgow5zrv5S"
      },
      "execution_count": 16,
      "outputs": []
    },
    {
      "cell_type": "code",
      "source": [
        "df_onehot.head(10)"
      ],
      "metadata": {
        "colab": {
          "base_uri": "https://localhost:8080/",
          "height": 473
        },
        "id": "gSjOpo5PsJ81",
        "outputId": "62358664-bb24-4ea0-faf4-6c9dcf2f4ef3"
      },
      "execution_count": 17,
      "outputs": [
        {
          "output_type": "execute_result",
          "data": {
            "text/plain": [
              "   y_target  job_admin.  job_blue-collar  job_entrepreneur  job_housemaid  \\\n",
              "0         0           0                1                 0              0   \n",
              "1         0           0                0                 0              0   \n",
              "2         0           0                0                 0              0   \n",
              "3         0           0                0                 0              0   \n",
              "4         0           1                0                 0              0   \n",
              "5         0           0                0                 0              0   \n",
              "6         0           1                0                 0              0   \n",
              "7         0           0                0                 1              0   \n",
              "8         0           0                0                 0              0   \n",
              "9         0           0                1                 0              0   \n",
              "\n",
              "   job_management  job_retired  job_self-employed  job_services  job_student  \\\n",
              "0               0            0                  0             0            0   \n",
              "1               0            0                  0             1            0   \n",
              "2               0            0                  0             1            0   \n",
              "3               0            0                  0             1            0   \n",
              "4               0            0                  0             0            0   \n",
              "5               0            0                  0             1            0   \n",
              "6               0            0                  0             0            0   \n",
              "7               0            0                  0             0            0   \n",
              "8               0            0                  0             1            0   \n",
              "9               0            0                  0             0            0   \n",
              "\n",
              "   ...  month_oct  month_sep  day_of_week_fri  day_of_week_mon  \\\n",
              "0  ...          0          0                1                0   \n",
              "1  ...          0          0                1                0   \n",
              "2  ...          0          0                0                0   \n",
              "3  ...          0          0                1                0   \n",
              "4  ...          0          0                0                1   \n",
              "5  ...          0          1                0                0   \n",
              "6  ...          0          1                0                1   \n",
              "7  ...          0          0                0                1   \n",
              "8  ...          0          0                0                0   \n",
              "9  ...          0          0                0                0   \n",
              "\n",
              "   day_of_week_thu  day_of_week_tue  day_of_week_wed  poutcome_failure  \\\n",
              "0                0                0                0                 0   \n",
              "1                0                0                0                 0   \n",
              "2                0                0                1                 0   \n",
              "3                0                0                0                 0   \n",
              "4                0                0                0                 0   \n",
              "5                1                0                0                 1   \n",
              "6                0                0                0                 0   \n",
              "7                0                0                0                 0   \n",
              "8                0                1                0                 1   \n",
              "9                1                0                0                 0   \n",
              "\n",
              "   poutcome_nonexistent  poutcome_success  \n",
              "0                     1                 0  \n",
              "1                     1                 0  \n",
              "2                     1                 0  \n",
              "3                     1                 0  \n",
              "4                     1                 0  \n",
              "5                     0                 0  \n",
              "6                     1                 0  \n",
              "7                     1                 0  \n",
              "8                     0                 0  \n",
              "9                     1                 0  \n",
              "\n",
              "[10 rows x 52 columns]"
            ],
            "text/html": [
              "\n",
              "  <div id=\"df-aae5a9d8-9b32-43b5-8743-2344e4da3a78\">\n",
              "    <div class=\"colab-df-container\">\n",
              "      <div>\n",
              "<style scoped>\n",
              "    .dataframe tbody tr th:only-of-type {\n",
              "        vertical-align: middle;\n",
              "    }\n",
              "\n",
              "    .dataframe tbody tr th {\n",
              "        vertical-align: top;\n",
              "    }\n",
              "\n",
              "    .dataframe thead th {\n",
              "        text-align: right;\n",
              "    }\n",
              "</style>\n",
              "<table border=\"1\" class=\"dataframe\">\n",
              "  <thead>\n",
              "    <tr style=\"text-align: right;\">\n",
              "      <th></th>\n",
              "      <th>y_target</th>\n",
              "      <th>job_admin.</th>\n",
              "      <th>job_blue-collar</th>\n",
              "      <th>job_entrepreneur</th>\n",
              "      <th>job_housemaid</th>\n",
              "      <th>job_management</th>\n",
              "      <th>job_retired</th>\n",
              "      <th>job_self-employed</th>\n",
              "      <th>job_services</th>\n",
              "      <th>job_student</th>\n",
              "      <th>...</th>\n",
              "      <th>month_oct</th>\n",
              "      <th>month_sep</th>\n",
              "      <th>day_of_week_fri</th>\n",
              "      <th>day_of_week_mon</th>\n",
              "      <th>day_of_week_thu</th>\n",
              "      <th>day_of_week_tue</th>\n",
              "      <th>day_of_week_wed</th>\n",
              "      <th>poutcome_failure</th>\n",
              "      <th>poutcome_nonexistent</th>\n",
              "      <th>poutcome_success</th>\n",
              "    </tr>\n",
              "  </thead>\n",
              "  <tbody>\n",
              "    <tr>\n",
              "      <th>0</th>\n",
              "      <td>0</td>\n",
              "      <td>0</td>\n",
              "      <td>1</td>\n",
              "      <td>0</td>\n",
              "      <td>0</td>\n",
              "      <td>0</td>\n",
              "      <td>0</td>\n",
              "      <td>0</td>\n",
              "      <td>0</td>\n",
              "      <td>0</td>\n",
              "      <td>...</td>\n",
              "      <td>0</td>\n",
              "      <td>0</td>\n",
              "      <td>1</td>\n",
              "      <td>0</td>\n",
              "      <td>0</td>\n",
              "      <td>0</td>\n",
              "      <td>0</td>\n",
              "      <td>0</td>\n",
              "      <td>1</td>\n",
              "      <td>0</td>\n",
              "    </tr>\n",
              "    <tr>\n",
              "      <th>1</th>\n",
              "      <td>0</td>\n",
              "      <td>0</td>\n",
              "      <td>0</td>\n",
              "      <td>0</td>\n",
              "      <td>0</td>\n",
              "      <td>0</td>\n",
              "      <td>0</td>\n",
              "      <td>0</td>\n",
              "      <td>1</td>\n",
              "      <td>0</td>\n",
              "      <td>...</td>\n",
              "      <td>0</td>\n",
              "      <td>0</td>\n",
              "      <td>1</td>\n",
              "      <td>0</td>\n",
              "      <td>0</td>\n",
              "      <td>0</td>\n",
              "      <td>0</td>\n",
              "      <td>0</td>\n",
              "      <td>1</td>\n",
              "      <td>0</td>\n",
              "    </tr>\n",
              "    <tr>\n",
              "      <th>2</th>\n",
              "      <td>0</td>\n",
              "      <td>0</td>\n",
              "      <td>0</td>\n",
              "      <td>0</td>\n",
              "      <td>0</td>\n",
              "      <td>0</td>\n",
              "      <td>0</td>\n",
              "      <td>0</td>\n",
              "      <td>1</td>\n",
              "      <td>0</td>\n",
              "      <td>...</td>\n",
              "      <td>0</td>\n",
              "      <td>0</td>\n",
              "      <td>0</td>\n",
              "      <td>0</td>\n",
              "      <td>0</td>\n",
              "      <td>0</td>\n",
              "      <td>1</td>\n",
              "      <td>0</td>\n",
              "      <td>1</td>\n",
              "      <td>0</td>\n",
              "    </tr>\n",
              "    <tr>\n",
              "      <th>3</th>\n",
              "      <td>0</td>\n",
              "      <td>0</td>\n",
              "      <td>0</td>\n",
              "      <td>0</td>\n",
              "      <td>0</td>\n",
              "      <td>0</td>\n",
              "      <td>0</td>\n",
              "      <td>0</td>\n",
              "      <td>1</td>\n",
              "      <td>0</td>\n",
              "      <td>...</td>\n",
              "      <td>0</td>\n",
              "      <td>0</td>\n",
              "      <td>1</td>\n",
              "      <td>0</td>\n",
              "      <td>0</td>\n",
              "      <td>0</td>\n",
              "      <td>0</td>\n",
              "      <td>0</td>\n",
              "      <td>1</td>\n",
              "      <td>0</td>\n",
              "    </tr>\n",
              "    <tr>\n",
              "      <th>4</th>\n",
              "      <td>0</td>\n",
              "      <td>1</td>\n",
              "      <td>0</td>\n",
              "      <td>0</td>\n",
              "      <td>0</td>\n",
              "      <td>0</td>\n",
              "      <td>0</td>\n",
              "      <td>0</td>\n",
              "      <td>0</td>\n",
              "      <td>0</td>\n",
              "      <td>...</td>\n",
              "      <td>0</td>\n",
              "      <td>0</td>\n",
              "      <td>0</td>\n",
              "      <td>1</td>\n",
              "      <td>0</td>\n",
              "      <td>0</td>\n",
              "      <td>0</td>\n",
              "      <td>0</td>\n",
              "      <td>1</td>\n",
              "      <td>0</td>\n",
              "    </tr>\n",
              "    <tr>\n",
              "      <th>5</th>\n",
              "      <td>0</td>\n",
              "      <td>0</td>\n",
              "      <td>0</td>\n",
              "      <td>0</td>\n",
              "      <td>0</td>\n",
              "      <td>0</td>\n",
              "      <td>0</td>\n",
              "      <td>0</td>\n",
              "      <td>1</td>\n",
              "      <td>0</td>\n",
              "      <td>...</td>\n",
              "      <td>0</td>\n",
              "      <td>1</td>\n",
              "      <td>0</td>\n",
              "      <td>0</td>\n",
              "      <td>1</td>\n",
              "      <td>0</td>\n",
              "      <td>0</td>\n",
              "      <td>1</td>\n",
              "      <td>0</td>\n",
              "      <td>0</td>\n",
              "    </tr>\n",
              "    <tr>\n",
              "      <th>6</th>\n",
              "      <td>0</td>\n",
              "      <td>1</td>\n",
              "      <td>0</td>\n",
              "      <td>0</td>\n",
              "      <td>0</td>\n",
              "      <td>0</td>\n",
              "      <td>0</td>\n",
              "      <td>0</td>\n",
              "      <td>0</td>\n",
              "      <td>0</td>\n",
              "      <td>...</td>\n",
              "      <td>0</td>\n",
              "      <td>1</td>\n",
              "      <td>0</td>\n",
              "      <td>1</td>\n",
              "      <td>0</td>\n",
              "      <td>0</td>\n",
              "      <td>0</td>\n",
              "      <td>0</td>\n",
              "      <td>1</td>\n",
              "      <td>0</td>\n",
              "    </tr>\n",
              "    <tr>\n",
              "      <th>7</th>\n",
              "      <td>0</td>\n",
              "      <td>0</td>\n",
              "      <td>0</td>\n",
              "      <td>1</td>\n",
              "      <td>0</td>\n",
              "      <td>0</td>\n",
              "      <td>0</td>\n",
              "      <td>0</td>\n",
              "      <td>0</td>\n",
              "      <td>0</td>\n",
              "      <td>...</td>\n",
              "      <td>0</td>\n",
              "      <td>0</td>\n",
              "      <td>0</td>\n",
              "      <td>1</td>\n",
              "      <td>0</td>\n",
              "      <td>0</td>\n",
              "      <td>0</td>\n",
              "      <td>0</td>\n",
              "      <td>1</td>\n",
              "      <td>0</td>\n",
              "    </tr>\n",
              "    <tr>\n",
              "      <th>8</th>\n",
              "      <td>0</td>\n",
              "      <td>0</td>\n",
              "      <td>0</td>\n",
              "      <td>0</td>\n",
              "      <td>0</td>\n",
              "      <td>0</td>\n",
              "      <td>0</td>\n",
              "      <td>0</td>\n",
              "      <td>1</td>\n",
              "      <td>0</td>\n",
              "      <td>...</td>\n",
              "      <td>0</td>\n",
              "      <td>0</td>\n",
              "      <td>0</td>\n",
              "      <td>0</td>\n",
              "      <td>0</td>\n",
              "      <td>1</td>\n",
              "      <td>0</td>\n",
              "      <td>1</td>\n",
              "      <td>0</td>\n",
              "      <td>0</td>\n",
              "    </tr>\n",
              "    <tr>\n",
              "      <th>9</th>\n",
              "      <td>0</td>\n",
              "      <td>0</td>\n",
              "      <td>1</td>\n",
              "      <td>0</td>\n",
              "      <td>0</td>\n",
              "      <td>0</td>\n",
              "      <td>0</td>\n",
              "      <td>0</td>\n",
              "      <td>0</td>\n",
              "      <td>0</td>\n",
              "      <td>...</td>\n",
              "      <td>0</td>\n",
              "      <td>0</td>\n",
              "      <td>0</td>\n",
              "      <td>0</td>\n",
              "      <td>1</td>\n",
              "      <td>0</td>\n",
              "      <td>0</td>\n",
              "      <td>0</td>\n",
              "      <td>1</td>\n",
              "      <td>0</td>\n",
              "    </tr>\n",
              "  </tbody>\n",
              "</table>\n",
              "<p>10 rows × 52 columns</p>\n",
              "</div>\n",
              "      <button class=\"colab-df-convert\" onclick=\"convertToInteractive('df-aae5a9d8-9b32-43b5-8743-2344e4da3a78')\"\n",
              "              title=\"Convert this dataframe to an interactive table.\"\n",
              "              style=\"display:none;\">\n",
              "        \n",
              "  <svg xmlns=\"http://www.w3.org/2000/svg\" height=\"24px\"viewBox=\"0 0 24 24\"\n",
              "       width=\"24px\">\n",
              "    <path d=\"M0 0h24v24H0V0z\" fill=\"none\"/>\n",
              "    <path d=\"M18.56 5.44l.94 2.06.94-2.06 2.06-.94-2.06-.94-.94-2.06-.94 2.06-2.06.94zm-11 1L8.5 8.5l.94-2.06 2.06-.94-2.06-.94L8.5 2.5l-.94 2.06-2.06.94zm10 10l.94 2.06.94-2.06 2.06-.94-2.06-.94-.94-2.06-.94 2.06-2.06.94z\"/><path d=\"M17.41 7.96l-1.37-1.37c-.4-.4-.92-.59-1.43-.59-.52 0-1.04.2-1.43.59L10.3 9.45l-7.72 7.72c-.78.78-.78 2.05 0 2.83L4 21.41c.39.39.9.59 1.41.59.51 0 1.02-.2 1.41-.59l7.78-7.78 2.81-2.81c.8-.78.8-2.07 0-2.86zM5.41 20L4 18.59l7.72-7.72 1.47 1.35L5.41 20z\"/>\n",
              "  </svg>\n",
              "      </button>\n",
              "      \n",
              "  <style>\n",
              "    .colab-df-container {\n",
              "      display:flex;\n",
              "      flex-wrap:wrap;\n",
              "      gap: 12px;\n",
              "    }\n",
              "\n",
              "    .colab-df-convert {\n",
              "      background-color: #E8F0FE;\n",
              "      border: none;\n",
              "      border-radius: 50%;\n",
              "      cursor: pointer;\n",
              "      display: none;\n",
              "      fill: #1967D2;\n",
              "      height: 32px;\n",
              "      padding: 0 0 0 0;\n",
              "      width: 32px;\n",
              "    }\n",
              "\n",
              "    .colab-df-convert:hover {\n",
              "      background-color: #E2EBFA;\n",
              "      box-shadow: 0px 1px 2px rgba(60, 64, 67, 0.3), 0px 1px 3px 1px rgba(60, 64, 67, 0.15);\n",
              "      fill: #174EA6;\n",
              "    }\n",
              "\n",
              "    [theme=dark] .colab-df-convert {\n",
              "      background-color: #3B4455;\n",
              "      fill: #D2E3FC;\n",
              "    }\n",
              "\n",
              "    [theme=dark] .colab-df-convert:hover {\n",
              "      background-color: #434B5C;\n",
              "      box-shadow: 0px 1px 3px 1px rgba(0, 0, 0, 0.15);\n",
              "      filter: drop-shadow(0px 1px 2px rgba(0, 0, 0, 0.3));\n",
              "      fill: #FFFFFF;\n",
              "    }\n",
              "  </style>\n",
              "\n",
              "      <script>\n",
              "        const buttonEl =\n",
              "          document.querySelector('#df-aae5a9d8-9b32-43b5-8743-2344e4da3a78 button.colab-df-convert');\n",
              "        buttonEl.style.display =\n",
              "          google.colab.kernel.accessAllowed ? 'block' : 'none';\n",
              "\n",
              "        async function convertToInteractive(key) {\n",
              "          const element = document.querySelector('#df-aae5a9d8-9b32-43b5-8743-2344e4da3a78');\n",
              "          const dataTable =\n",
              "            await google.colab.kernel.invokeFunction('convertToInteractive',\n",
              "                                                     [key], {});\n",
              "          if (!dataTable) return;\n",
              "\n",
              "          const docLinkHtml = 'Like what you see? Visit the ' +\n",
              "            '<a target=\"_blank\" href=https://colab.research.google.com/notebooks/data_table.ipynb>data table notebook</a>'\n",
              "            + ' to learn more about interactive tables.';\n",
              "          element.innerHTML = '';\n",
              "          dataTable['output_type'] = 'display_data';\n",
              "          await google.colab.output.renderOutput(dataTable, element);\n",
              "          const docLink = document.createElement('div');\n",
              "          docLink.innerHTML = docLinkHtml;\n",
              "          element.appendChild(docLink);\n",
              "        }\n",
              "      </script>\n",
              "    </div>\n",
              "  </div>\n",
              "  "
            ]
          },
          "metadata": {},
          "execution_count": 17
        }
      ]
    },
    {
      "cell_type": "code",
      "source": [
        "df_onehot.shape"
      ],
      "metadata": {
        "colab": {
          "base_uri": "https://localhost:8080/"
        },
        "id": "JOieHvoysZa7",
        "outputId": "e848e77a-bde4-41d6-ed11-be7d38a6e6dd"
      },
      "execution_count": 18,
      "outputs": [
        {
          "output_type": "execute_result",
          "data": {
            "text/plain": [
              "(4117, 52)"
            ]
          },
          "metadata": {},
          "execution_count": 18
        }
      ]
    },
    {
      "cell_type": "markdown",
      "source": [
        "####Train-Test Splitting"
      ],
      "metadata": {
        "id": "IgyBmJqcsSCI"
      }
    },
    {
      "cell_type": "code",
      "source": [
        "#Splitting dataframe 70/30, training and testing respectively\n",
        "train_df, test_df = train_test_split(df_onehot, test_size=0.3)"
      ],
      "metadata": {
        "id": "WpS1_XI1sXPD"
      },
      "execution_count": 19,
      "outputs": []
    },
    {
      "cell_type": "markdown",
      "source": [
        "####Verifying distribution"
      ],
      "metadata": {
        "id": "_2adcAjJv9RE"
      }
    },
    {
      "cell_type": "code",
      "source": [
        "#Showing partition in the whole dataframe\n",
        "df_onehot['y_target'].value_counts(normalize=True).mul(100).round(2).astype(str) + \"%\""
      ],
      "metadata": {
        "colab": {
          "base_uri": "https://localhost:8080/"
        },
        "id": "pgErwqFrtBui",
        "outputId": "dfddf1a8-0940-4eb3-d336-18737527ab1e"
      },
      "execution_count": 20,
      "outputs": [
        {
          "output_type": "execute_result",
          "data": {
            "text/plain": [
              "0    89.05%\n",
              "1    10.95%\n",
              "Name: y_target, dtype: object"
            ]
          },
          "metadata": {},
          "execution_count": 20
        }
      ]
    },
    {
      "cell_type": "code",
      "source": [
        "#Showing partition in the training dataset only\n",
        "train_df['y_target'].value_counts(normalize=True).mul(100).round(2).astype(str) + \"%\""
      ],
      "metadata": {
        "colab": {
          "base_uri": "https://localhost:8080/"
        },
        "id": "K0LjKTBItiWB",
        "outputId": "9af3a009-07db-414f-a863-32fe2c953aa0"
      },
      "execution_count": 21,
      "outputs": [
        {
          "output_type": "execute_result",
          "data": {
            "text/plain": [
              "0    89.21%\n",
              "1    10.79%\n",
              "Name: y_target, dtype: object"
            ]
          },
          "metadata": {},
          "execution_count": 21
        }
      ]
    },
    {
      "cell_type": "code",
      "source": [
        "#Showing partition in the testing dataset only\n",
        "test_df['y_target'].value_counts(normalize=True).mul(100).round(2).astype(str) + \"%\""
      ],
      "metadata": {
        "colab": {
          "base_uri": "https://localhost:8080/"
        },
        "id": "HcT26RJlts-N",
        "outputId": "0f48df38-8dfc-4cae-830d-ba011e92bd94"
      },
      "execution_count": 22,
      "outputs": [
        {
          "output_type": "execute_result",
          "data": {
            "text/plain": [
              "0    88.67%\n",
              "1    11.33%\n",
              "Name: y_target, dtype: object"
            ]
          },
          "metadata": {},
          "execution_count": 22
        }
      ]
    },
    {
      "cell_type": "markdown",
      "source": [
        "The distribution of the y_target variable is preserved during the splitting. This happens because the split occurs randomly. As the documentation suggests, the function train_test_split() shuffles the dataset and them randomly splits it according to the test_size argument."
      ],
      "metadata": {
        "id": "3sn6DQzAwTwR"
      }
    },
    {
      "cell_type": "markdown",
      "source": [
        "##Preparing Data to Fit a Decision Tree Model"
      ],
      "metadata": {
        "id": "JloahppHxtOq"
      }
    },
    {
      "cell_type": "code",
      "source": [
        "x_variables = list(df_onehot.columns)"
      ],
      "metadata": {
        "id": "qfJe-IK11KTm"
      },
      "execution_count": 23,
      "outputs": []
    },
    {
      "cell_type": "code",
      "source": [
        "x_variables"
      ],
      "metadata": {
        "colab": {
          "base_uri": "https://localhost:8080/"
        },
        "id": "QbL7nZoV1N3e",
        "outputId": "73dec919-9143-483f-ac49-81474875d519"
      },
      "execution_count": 24,
      "outputs": [
        {
          "output_type": "execute_result",
          "data": {
            "text/plain": [
              "['y_target',\n",
              " 'job_admin.',\n",
              " 'job_blue-collar',\n",
              " 'job_entrepreneur',\n",
              " 'job_housemaid',\n",
              " 'job_management',\n",
              " 'job_retired',\n",
              " 'job_self-employed',\n",
              " 'job_services',\n",
              " 'job_student',\n",
              " 'job_technician',\n",
              " 'job_unemployed',\n",
              " 'job_unknown',\n",
              " 'marital_divorced',\n",
              " 'marital_married',\n",
              " 'marital_single',\n",
              " 'marital_unknown',\n",
              " 'education_basic.4y',\n",
              " 'education_basic.6y',\n",
              " 'education_basic.9y',\n",
              " 'education_high.school',\n",
              " 'education_professional.course',\n",
              " 'education_university.degree',\n",
              " 'education_unknown',\n",
              " 'default_no',\n",
              " 'default_unknown',\n",
              " 'housing_no',\n",
              " 'housing_unknown',\n",
              " 'housing_yes',\n",
              " 'loan_no',\n",
              " 'loan_unknown',\n",
              " 'loan_yes',\n",
              " 'contact_cellular',\n",
              " 'contact_telephone',\n",
              " 'month_apr',\n",
              " 'month_aug',\n",
              " 'month_dec',\n",
              " 'month_jul',\n",
              " 'month_jun',\n",
              " 'month_mar',\n",
              " 'month_may',\n",
              " 'month_nov',\n",
              " 'month_oct',\n",
              " 'month_sep',\n",
              " 'day_of_week_fri',\n",
              " 'day_of_week_mon',\n",
              " 'day_of_week_thu',\n",
              " 'day_of_week_tue',\n",
              " 'day_of_week_wed',\n",
              " 'poutcome_failure',\n",
              " 'poutcome_nonexistent',\n",
              " 'poutcome_success']"
            ]
          },
          "metadata": {},
          "execution_count": 24
        }
      ]
    },
    {
      "cell_type": "code",
      "source": [
        "y_variable = x_variables[0]"
      ],
      "metadata": {
        "id": "Qa9M0JBt1PYQ"
      },
      "execution_count": 25,
      "outputs": []
    },
    {
      "cell_type": "code",
      "source": [
        "y_variable"
      ],
      "metadata": {
        "colab": {
          "base_uri": "https://localhost:8080/",
          "height": 36
        },
        "id": "06_UBAU91WT9",
        "outputId": "26c26b55-87a8-48f1-faca-a093e6f5f286"
      },
      "execution_count": 26,
      "outputs": [
        {
          "output_type": "execute_result",
          "data": {
            "text/plain": [
              "'y_target'"
            ],
            "application/vnd.google.colaboratory.intrinsic+json": {
              "type": "string"
            }
          },
          "metadata": {},
          "execution_count": 26
        }
      ]
    },
    {
      "cell_type": "code",
      "source": [
        "x_variables.remove('y_target')"
      ],
      "metadata": {
        "id": "liXn5fz-1YSU"
      },
      "execution_count": 27,
      "outputs": []
    },
    {
      "cell_type": "code",
      "source": [
        "#Seperating variables from each training and testing datasets.\n",
        "x_train = train_df[x_variables].to_numpy()\n",
        "y_train = train_df[y_variable].to_numpy()\n",
        "x_test= test_df[x_variables].to_numpy()\n",
        "y_test = test_df[y_variable].to_numpy()"
      ],
      "metadata": {
        "id": "PT_QV-TEx4ns"
      },
      "execution_count": 28,
      "outputs": []
    },
    {
      "cell_type": "markdown",
      "source": [
        "####Training Decision Tree Model"
      ],
      "metadata": {
        "id": "nzVRWiHKLQWA"
      }
    },
    {
      "cell_type": "code",
      "source": [
        "#Creating DT object and fitting the model.\n",
        "random_state = 0\n",
        "decision_tree = DecisionTreeClassifier(random_state=random_state)\n",
        "decision_tree = decision_tree.fit(x_train, y_train)\n",
        "print(export_text(decision_tree))"
      ],
      "metadata": {
        "colab": {
          "base_uri": "https://localhost:8080/"
        },
        "id": "JLPuix2p3PU0",
        "outputId": "73875067-fc88-4428-c9c8-ad1342f3f252"
      },
      "execution_count": 29,
      "outputs": [
        {
          "output_type": "stream",
          "name": "stdout",
          "text": [
            "|--- feature_50 <= 0.50\n",
            "|   |--- feature_38 <= 0.50\n",
            "|   |   |--- feature_41 <= 0.50\n",
            "|   |   |   |--- feature_32 <= 0.50\n",
            "|   |   |   |   |--- feature_37 <= 0.50\n",
            "|   |   |   |   |   |--- feature_35 <= 0.50\n",
            "|   |   |   |   |   |   |--- feature_42 <= 0.50\n",
            "|   |   |   |   |   |   |   |--- feature_33 <= 0.50\n",
            "|   |   |   |   |   |   |   |   |--- feature_48 <= 0.50\n",
            "|   |   |   |   |   |   |   |   |   |--- feature_13 <= 0.50\n",
            "|   |   |   |   |   |   |   |   |   |   |--- feature_7 <= 0.50\n",
            "|   |   |   |   |   |   |   |   |   |   |   |--- truncated branch of depth 17\n",
            "|   |   |   |   |   |   |   |   |   |   |--- feature_7 >  0.50\n",
            "|   |   |   |   |   |   |   |   |   |   |   |--- truncated branch of depth 10\n",
            "|   |   |   |   |   |   |   |   |   |--- feature_13 >  0.50\n",
            "|   |   |   |   |   |   |   |   |   |   |--- feature_20 <= 0.50\n",
            "|   |   |   |   |   |   |   |   |   |   |   |--- truncated branch of depth 16\n",
            "|   |   |   |   |   |   |   |   |   |   |--- feature_20 >  0.50\n",
            "|   |   |   |   |   |   |   |   |   |   |   |--- truncated branch of depth 9\n",
            "|   |   |   |   |   |   |   |   |--- feature_48 >  0.50\n",
            "|   |   |   |   |   |   |   |   |   |--- feature_34 <= 0.50\n",
            "|   |   |   |   |   |   |   |   |   |   |--- feature_5 <= 0.50\n",
            "|   |   |   |   |   |   |   |   |   |   |   |--- truncated branch of depth 14\n",
            "|   |   |   |   |   |   |   |   |   |   |--- feature_5 >  0.50\n",
            "|   |   |   |   |   |   |   |   |   |   |   |--- truncated branch of depth 2\n",
            "|   |   |   |   |   |   |   |   |   |--- feature_34 >  0.50\n",
            "|   |   |   |   |   |   |   |   |   |   |--- feature_46 <= 0.50\n",
            "|   |   |   |   |   |   |   |   |   |   |   |--- truncated branch of depth 4\n",
            "|   |   |   |   |   |   |   |   |   |   |--- feature_46 >  0.50\n",
            "|   |   |   |   |   |   |   |   |   |   |   |--- truncated branch of depth 2\n",
            "|   |   |   |   |   |   |   |--- feature_33 >  0.50\n",
            "|   |   |   |   |   |   |   |   |--- feature_0 <= 0.50\n",
            "|   |   |   |   |   |   |   |   |   |--- feature_5 <= 0.50\n",
            "|   |   |   |   |   |   |   |   |   |   |--- feature_46 <= 0.50\n",
            "|   |   |   |   |   |   |   |   |   |   |   |--- truncated branch of depth 7\n",
            "|   |   |   |   |   |   |   |   |   |   |--- feature_46 >  0.50\n",
            "|   |   |   |   |   |   |   |   |   |   |   |--- truncated branch of depth 4\n",
            "|   |   |   |   |   |   |   |   |   |--- feature_5 >  0.50\n",
            "|   |   |   |   |   |   |   |   |   |   |--- feature_45 <= 0.50\n",
            "|   |   |   |   |   |   |   |   |   |   |   |--- class: 1\n",
            "|   |   |   |   |   |   |   |   |   |   |--- feature_45 >  0.50\n",
            "|   |   |   |   |   |   |   |   |   |   |   |--- class: 0\n",
            "|   |   |   |   |   |   |   |   |--- feature_0 >  0.50\n",
            "|   |   |   |   |   |   |   |   |   |--- feature_14 <= 0.50\n",
            "|   |   |   |   |   |   |   |   |   |   |--- feature_46 <= 0.50\n",
            "|   |   |   |   |   |   |   |   |   |   |   |--- truncated branch of depth 7\n",
            "|   |   |   |   |   |   |   |   |   |   |--- feature_46 >  0.50\n",
            "|   |   |   |   |   |   |   |   |   |   |   |--- class: 1\n",
            "|   |   |   |   |   |   |   |   |   |--- feature_14 >  0.50\n",
            "|   |   |   |   |   |   |   |   |   |   |--- feature_21 <= 0.50\n",
            "|   |   |   |   |   |   |   |   |   |   |   |--- class: 0\n",
            "|   |   |   |   |   |   |   |   |   |   |--- feature_21 >  0.50\n",
            "|   |   |   |   |   |   |   |   |   |   |   |--- truncated branch of depth 5\n",
            "|   |   |   |   |   |   |--- feature_42 >  0.50\n",
            "|   |   |   |   |   |   |   |--- feature_5 <= 0.50\n",
            "|   |   |   |   |   |   |   |   |--- feature_46 <= 0.50\n",
            "|   |   |   |   |   |   |   |   |   |--- feature_13 <= 0.50\n",
            "|   |   |   |   |   |   |   |   |   |   |--- feature_9 <= 0.50\n",
            "|   |   |   |   |   |   |   |   |   |   |   |--- truncated branch of depth 3\n",
            "|   |   |   |   |   |   |   |   |   |   |--- feature_9 >  0.50\n",
            "|   |   |   |   |   |   |   |   |   |   |   |--- class: 1\n",
            "|   |   |   |   |   |   |   |   |   |--- feature_13 >  0.50\n",
            "|   |   |   |   |   |   |   |   |   |   |--- feature_21 <= 0.50\n",
            "|   |   |   |   |   |   |   |   |   |   |   |--- class: 0\n",
            "|   |   |   |   |   |   |   |   |   |   |--- feature_21 >  0.50\n",
            "|   |   |   |   |   |   |   |   |   |   |   |--- truncated branch of depth 3\n",
            "|   |   |   |   |   |   |   |   |--- feature_46 >  0.50\n",
            "|   |   |   |   |   |   |   |   |   |--- class: 0\n",
            "|   |   |   |   |   |   |   |--- feature_5 >  0.50\n",
            "|   |   |   |   |   |   |   |   |--- class: 1\n",
            "|   |   |   |   |   |--- feature_35 >  0.50\n",
            "|   |   |   |   |   |   |--- feature_47 <= 0.50\n",
            "|   |   |   |   |   |   |   |--- feature_44 <= 0.50\n",
            "|   |   |   |   |   |   |   |   |--- class: 0\n",
            "|   |   |   |   |   |   |   |--- feature_44 >  0.50\n",
            "|   |   |   |   |   |   |   |   |--- feature_49 <= 0.50\n",
            "|   |   |   |   |   |   |   |   |   |--- class: 1\n",
            "|   |   |   |   |   |   |   |   |--- feature_49 >  0.50\n",
            "|   |   |   |   |   |   |   |   |   |--- class: 0\n",
            "|   |   |   |   |   |   |--- feature_47 >  0.50\n",
            "|   |   |   |   |   |   |   |--- class: 1\n",
            "|   |   |   |   |--- feature_37 >  0.50\n",
            "|   |   |   |   |   |--- feature_46 <= 0.50\n",
            "|   |   |   |   |   |   |--- feature_21 <= 0.50\n",
            "|   |   |   |   |   |   |   |--- feature_3 <= 0.50\n",
            "|   |   |   |   |   |   |   |   |--- feature_10 <= 0.50\n",
            "|   |   |   |   |   |   |   |   |   |--- feature_47 <= 0.50\n",
            "|   |   |   |   |   |   |   |   |   |   |--- class: 1\n",
            "|   |   |   |   |   |   |   |   |   |--- feature_47 >  0.50\n",
            "|   |   |   |   |   |   |   |   |   |   |--- feature_14 <= 0.50\n",
            "|   |   |   |   |   |   |   |   |   |   |   |--- truncated branch of depth 2\n",
            "|   |   |   |   |   |   |   |   |   |   |--- feature_14 >  0.50\n",
            "|   |   |   |   |   |   |   |   |   |   |   |--- class: 1\n",
            "|   |   |   |   |   |   |   |   |--- feature_10 >  0.50\n",
            "|   |   |   |   |   |   |   |   |   |--- class: 0\n",
            "|   |   |   |   |   |   |   |--- feature_3 >  0.50\n",
            "|   |   |   |   |   |   |   |   |--- class: 0\n",
            "|   |   |   |   |   |   |--- feature_21 >  0.50\n",
            "|   |   |   |   |   |   |   |--- feature_30 <= 0.50\n",
            "|   |   |   |   |   |   |   |   |--- feature_9 <= 0.50\n",
            "|   |   |   |   |   |   |   |   |   |--- feature_13 <= 0.50\n",
            "|   |   |   |   |   |   |   |   |   |   |--- feature_47 <= 0.50\n",
            "|   |   |   |   |   |   |   |   |   |   |   |--- truncated branch of depth 2\n",
            "|   |   |   |   |   |   |   |   |   |   |--- feature_47 >  0.50\n",
            "|   |   |   |   |   |   |   |   |   |   |   |--- class: 0\n",
            "|   |   |   |   |   |   |   |   |   |--- feature_13 >  0.50\n",
            "|   |   |   |   |   |   |   |   |   |   |--- feature_47 <= 0.50\n",
            "|   |   |   |   |   |   |   |   |   |   |   |--- class: 1\n",
            "|   |   |   |   |   |   |   |   |   |   |--- feature_47 >  0.50\n",
            "|   |   |   |   |   |   |   |   |   |   |   |--- truncated branch of depth 2\n",
            "|   |   |   |   |   |   |   |   |--- feature_9 >  0.50\n",
            "|   |   |   |   |   |   |   |   |   |--- feature_27 <= 0.50\n",
            "|   |   |   |   |   |   |   |   |   |   |--- feature_43 <= 0.50\n",
            "|   |   |   |   |   |   |   |   |   |   |   |--- class: 1\n",
            "|   |   |   |   |   |   |   |   |   |   |--- feature_43 >  0.50\n",
            "|   |   |   |   |   |   |   |   |   |   |   |--- class: 0\n",
            "|   |   |   |   |   |   |   |   |   |--- feature_27 >  0.50\n",
            "|   |   |   |   |   |   |   |   |   |   |--- class: 1\n",
            "|   |   |   |   |   |   |   |--- feature_30 >  0.50\n",
            "|   |   |   |   |   |   |   |   |--- class: 0\n",
            "|   |   |   |   |   |--- feature_46 >  0.50\n",
            "|   |   |   |   |   |   |--- feature_12 <= 0.50\n",
            "|   |   |   |   |   |   |   |--- feature_0 <= 0.50\n",
            "|   |   |   |   |   |   |   |   |--- feature_22 <= 0.50\n",
            "|   |   |   |   |   |   |   |   |   |--- class: 0\n",
            "|   |   |   |   |   |   |   |   |--- feature_22 >  0.50\n",
            "|   |   |   |   |   |   |   |   |   |--- class: 1\n",
            "|   |   |   |   |   |   |   |--- feature_0 >  0.50\n",
            "|   |   |   |   |   |   |   |   |--- class: 1\n",
            "|   |   |   |   |   |   |--- feature_12 >  0.50\n",
            "|   |   |   |   |   |   |   |--- class: 1\n",
            "|   |   |   |--- feature_32 >  0.50\n",
            "|   |   |   |   |--- feature_22 <= 0.50\n",
            "|   |   |   |   |   |--- feature_42 <= 0.50\n",
            "|   |   |   |   |   |   |--- feature_12 <= 0.50\n",
            "|   |   |   |   |   |   |   |--- feature_5 <= 0.50\n",
            "|   |   |   |   |   |   |   |   |--- feature_14 <= 0.50\n",
            "|   |   |   |   |   |   |   |   |   |--- feature_34 <= 0.50\n",
            "|   |   |   |   |   |   |   |   |   |   |--- feature_40 <= 0.50\n",
            "|   |   |   |   |   |   |   |   |   |   |   |--- truncated branch of depth 13\n",
            "|   |   |   |   |   |   |   |   |   |   |--- feature_40 >  0.50\n",
            "|   |   |   |   |   |   |   |   |   |   |   |--- truncated branch of depth 3\n",
            "|   |   |   |   |   |   |   |   |   |--- feature_34 >  0.50\n",
            "|   |   |   |   |   |   |   |   |   |   |--- feature_1 <= 0.50\n",
            "|   |   |   |   |   |   |   |   |   |   |   |--- class: 0\n",
            "|   |   |   |   |   |   |   |   |   |   |--- feature_1 >  0.50\n",
            "|   |   |   |   |   |   |   |   |   |   |   |--- class: 1\n",
            "|   |   |   |   |   |   |   |   |--- feature_14 >  0.50\n",
            "|   |   |   |   |   |   |   |   |   |--- feature_21 <= 0.50\n",
            "|   |   |   |   |   |   |   |   |   |   |--- feature_25 <= 0.50\n",
            "|   |   |   |   |   |   |   |   |   |   |   |--- truncated branch of depth 4\n",
            "|   |   |   |   |   |   |   |   |   |   |--- feature_25 >  0.50\n",
            "|   |   |   |   |   |   |   |   |   |   |   |--- truncated branch of depth 8\n",
            "|   |   |   |   |   |   |   |   |   |--- feature_21 >  0.50\n",
            "|   |   |   |   |   |   |   |   |   |   |--- feature_23 <= 0.50\n",
            "|   |   |   |   |   |   |   |   |   |   |   |--- truncated branch of depth 5\n",
            "|   |   |   |   |   |   |   |   |   |   |--- feature_23 >  0.50\n",
            "|   |   |   |   |   |   |   |   |   |   |   |--- truncated branch of depth 7\n",
            "|   |   |   |   |   |   |   |--- feature_5 >  0.50\n",
            "|   |   |   |   |   |   |   |   |--- feature_39 <= 0.50\n",
            "|   |   |   |   |   |   |   |   |   |--- feature_47 <= 0.50\n",
            "|   |   |   |   |   |   |   |   |   |   |--- feature_30 <= 0.50\n",
            "|   |   |   |   |   |   |   |   |   |   |   |--- class: 0\n",
            "|   |   |   |   |   |   |   |   |   |   |--- feature_30 >  0.50\n",
            "|   |   |   |   |   |   |   |   |   |   |   |--- truncated branch of depth 3\n",
            "|   |   |   |   |   |   |   |   |   |--- feature_47 >  0.50\n",
            "|   |   |   |   |   |   |   |   |   |   |--- class: 1\n",
            "|   |   |   |   |   |   |   |   |--- feature_39 >  0.50\n",
            "|   |   |   |   |   |   |   |   |   |--- class: 0\n",
            "|   |   |   |   |   |   |--- feature_12 >  0.50\n",
            "|   |   |   |   |   |   |   |--- class: 0\n",
            "|   |   |   |   |   |--- feature_42 >  0.50\n",
            "|   |   |   |   |   |   |--- feature_30 <= 0.50\n",
            "|   |   |   |   |   |   |   |--- feature_3 <= 0.50\n",
            "|   |   |   |   |   |   |   |   |--- class: 0\n",
            "|   |   |   |   |   |   |   |--- feature_3 >  0.50\n",
            "|   |   |   |   |   |   |   |   |--- feature_12 <= 0.50\n",
            "|   |   |   |   |   |   |   |   |   |--- class: 1\n",
            "|   |   |   |   |   |   |   |   |--- feature_12 >  0.50\n",
            "|   |   |   |   |   |   |   |   |   |--- class: 0\n",
            "|   |   |   |   |   |   |--- feature_30 >  0.50\n",
            "|   |   |   |   |   |   |   |--- class: 1\n",
            "|   |   |   |   |--- feature_22 >  0.50\n",
            "|   |   |   |   |   |--- feature_3 <= 0.50\n",
            "|   |   |   |   |   |   |--- feature_34 <= 0.50\n",
            "|   |   |   |   |   |   |   |--- feature_45 <= 0.50\n",
            "|   |   |   |   |   |   |   |   |--- feature_2 <= 0.50\n",
            "|   |   |   |   |   |   |   |   |   |--- feature_0 <= 0.50\n",
            "|   |   |   |   |   |   |   |   |   |   |--- feature_46 <= 0.50\n",
            "|   |   |   |   |   |   |   |   |   |   |   |--- class: 0\n",
            "|   |   |   |   |   |   |   |   |   |   |--- feature_46 >  0.50\n",
            "|   |   |   |   |   |   |   |   |   |   |   |--- truncated branch of depth 3\n",
            "|   |   |   |   |   |   |   |   |   |--- feature_0 >  0.50\n",
            "|   |   |   |   |   |   |   |   |   |   |--- feature_44 <= 0.50\n",
            "|   |   |   |   |   |   |   |   |   |   |   |--- class: 0\n",
            "|   |   |   |   |   |   |   |   |   |   |--- feature_44 >  0.50\n",
            "|   |   |   |   |   |   |   |   |   |   |   |--- truncated branch of depth 2\n",
            "|   |   |   |   |   |   |   |   |--- feature_2 >  0.50\n",
            "|   |   |   |   |   |   |   |   |   |--- feature_47 <= 0.50\n",
            "|   |   |   |   |   |   |   |   |   |   |--- class: 0\n",
            "|   |   |   |   |   |   |   |   |   |--- feature_47 >  0.50\n",
            "|   |   |   |   |   |   |   |   |   |   |--- class: 1\n",
            "|   |   |   |   |   |   |   |--- feature_45 >  0.50\n",
            "|   |   |   |   |   |   |   |   |--- feature_11 <= 0.50\n",
            "|   |   |   |   |   |   |   |   |   |--- class: 0\n",
            "|   |   |   |   |   |   |   |   |--- feature_11 >  0.50\n",
            "|   |   |   |   |   |   |   |   |   |--- class: 1\n",
            "|   |   |   |   |   |   |--- feature_34 >  0.50\n",
            "|   |   |   |   |   |   |   |--- feature_11 <= 0.50\n",
            "|   |   |   |   |   |   |   |   |--- class: 0\n",
            "|   |   |   |   |   |   |   |--- feature_11 >  0.50\n",
            "|   |   |   |   |   |   |   |   |--- class: 1\n",
            "|   |   |   |   |   |--- feature_3 >  0.50\n",
            "|   |   |   |   |   |   |--- class: 1\n",
            "|   |   |--- feature_41 >  0.50\n",
            "|   |   |   |--- feature_47 <= 0.50\n",
            "|   |   |   |   |--- feature_25 <= 0.50\n",
            "|   |   |   |   |   |--- class: 0\n",
            "|   |   |   |   |--- feature_25 >  0.50\n",
            "|   |   |   |   |   |--- feature_44 <= 0.50\n",
            "|   |   |   |   |   |   |--- feature_20 <= 0.50\n",
            "|   |   |   |   |   |   |   |--- feature_22 <= 0.50\n",
            "|   |   |   |   |   |   |   |   |--- feature_21 <= 0.50\n",
            "|   |   |   |   |   |   |   |   |   |--- class: 1\n",
            "|   |   |   |   |   |   |   |   |--- feature_21 >  0.50\n",
            "|   |   |   |   |   |   |   |   |   |--- feature_32 <= 0.50\n",
            "|   |   |   |   |   |   |   |   |   |   |--- feature_23 <= 0.50\n",
            "|   |   |   |   |   |   |   |   |   |   |   |--- class: 1\n",
            "|   |   |   |   |   |   |   |   |   |   |--- feature_23 >  0.50\n",
            "|   |   |   |   |   |   |   |   |   |   |   |--- truncated branch of depth 3\n",
            "|   |   |   |   |   |   |   |   |   |--- feature_32 >  0.50\n",
            "|   |   |   |   |   |   |   |   |   |   |--- class: 1\n",
            "|   |   |   |   |   |   |   |--- feature_22 >  0.50\n",
            "|   |   |   |   |   |   |   |   |--- class: 0\n",
            "|   |   |   |   |   |   |--- feature_20 >  0.50\n",
            "|   |   |   |   |   |   |   |--- class: 0\n",
            "|   |   |   |   |   |--- feature_44 >  0.50\n",
            "|   |   |   |   |   |   |--- feature_0 <= 0.50\n",
            "|   |   |   |   |   |   |   |--- class: 0\n",
            "|   |   |   |   |   |   |--- feature_0 >  0.50\n",
            "|   |   |   |   |   |   |   |--- feature_49 <= 0.50\n",
            "|   |   |   |   |   |   |   |   |--- class: 0\n",
            "|   |   |   |   |   |   |   |--- feature_49 >  0.50\n",
            "|   |   |   |   |   |   |   |   |--- class: 1\n",
            "|   |   |   |--- feature_47 >  0.50\n",
            "|   |   |   |   |--- feature_19 <= 0.50\n",
            "|   |   |   |   |   |--- class: 1\n",
            "|   |   |   |   |--- feature_19 >  0.50\n",
            "|   |   |   |   |   |--- class: 0\n",
            "|   |--- feature_38 >  0.50\n",
            "|   |   |--- feature_9 <= 0.50\n",
            "|   |   |   |--- feature_4 <= 0.50\n",
            "|   |   |   |   |--- feature_1 <= 0.50\n",
            "|   |   |   |   |   |--- feature_45 <= 0.50\n",
            "|   |   |   |   |   |   |--- feature_44 <= 0.50\n",
            "|   |   |   |   |   |   |   |--- class: 1\n",
            "|   |   |   |   |   |   |--- feature_44 >  0.50\n",
            "|   |   |   |   |   |   |   |--- feature_48 <= 0.50\n",
            "|   |   |   |   |   |   |   |   |--- class: 1\n",
            "|   |   |   |   |   |   |   |--- feature_48 >  0.50\n",
            "|   |   |   |   |   |   |   |   |--- class: 0\n",
            "|   |   |   |   |   |--- feature_45 >  0.50\n",
            "|   |   |   |   |   |   |--- class: 0\n",
            "|   |   |   |   |--- feature_1 >  0.50\n",
            "|   |   |   |   |   |--- feature_49 <= 0.50\n",
            "|   |   |   |   |   |   |--- class: 1\n",
            "|   |   |   |   |   |--- feature_49 >  0.50\n",
            "|   |   |   |   |   |   |--- class: 0\n",
            "|   |   |   |--- feature_4 >  0.50\n",
            "|   |   |   |   |--- class: 0\n",
            "|   |   |--- feature_9 >  0.50\n",
            "|   |   |   |--- feature_45 <= 0.50\n",
            "|   |   |   |   |--- class: 0\n",
            "|   |   |   |--- feature_45 >  0.50\n",
            "|   |   |   |   |--- feature_27 <= 0.50\n",
            "|   |   |   |   |   |--- class: 0\n",
            "|   |   |   |   |--- feature_27 >  0.50\n",
            "|   |   |   |   |   |--- class: 1\n",
            "|--- feature_50 >  0.50\n",
            "|   |--- feature_38 <= 0.50\n",
            "|   |   |--- feature_1 <= 0.50\n",
            "|   |   |   |--- feature_46 <= 0.50\n",
            "|   |   |   |   |--- feature_7 <= 0.50\n",
            "|   |   |   |   |   |--- feature_10 <= 0.50\n",
            "|   |   |   |   |   |   |--- feature_44 <= 0.50\n",
            "|   |   |   |   |   |   |   |--- feature_30 <= 0.50\n",
            "|   |   |   |   |   |   |   |   |--- feature_11 <= 0.50\n",
            "|   |   |   |   |   |   |   |   |   |--- feature_33 <= 0.50\n",
            "|   |   |   |   |   |   |   |   |   |   |--- feature_36 <= 0.50\n",
            "|   |   |   |   |   |   |   |   |   |   |   |--- truncated branch of depth 7\n",
            "|   |   |   |   |   |   |   |   |   |   |--- feature_36 >  0.50\n",
            "|   |   |   |   |   |   |   |   |   |   |   |--- truncated branch of depth 5\n",
            "|   |   |   |   |   |   |   |   |   |--- feature_33 >  0.50\n",
            "|   |   |   |   |   |   |   |   |   |   |--- feature_5 <= 0.50\n",
            "|   |   |   |   |   |   |   |   |   |   |   |--- class: 1\n",
            "|   |   |   |   |   |   |   |   |   |   |--- feature_5 >  0.50\n",
            "|   |   |   |   |   |   |   |   |   |   |   |--- class: 0\n",
            "|   |   |   |   |   |   |   |   |--- feature_11 >  0.50\n",
            "|   |   |   |   |   |   |   |   |   |--- class: 0\n",
            "|   |   |   |   |   |   |   |--- feature_30 >  0.50\n",
            "|   |   |   |   |   |   |   |   |--- feature_45 <= 0.50\n",
            "|   |   |   |   |   |   |   |   |   |--- class: 0\n",
            "|   |   |   |   |   |   |   |   |--- feature_45 >  0.50\n",
            "|   |   |   |   |   |   |   |   |   |--- class: 1\n",
            "|   |   |   |   |   |   |--- feature_44 >  0.50\n",
            "|   |   |   |   |   |   |   |--- feature_30 <= 0.50\n",
            "|   |   |   |   |   |   |   |   |--- feature_37 <= 0.50\n",
            "|   |   |   |   |   |   |   |   |   |--- feature_39 <= 0.50\n",
            "|   |   |   |   |   |   |   |   |   |   |--- feature_27 <= 0.50\n",
            "|   |   |   |   |   |   |   |   |   |   |   |--- truncated branch of depth 2\n",
            "|   |   |   |   |   |   |   |   |   |   |--- feature_27 >  0.50\n",
            "|   |   |   |   |   |   |   |   |   |   |   |--- truncated branch of depth 4\n",
            "|   |   |   |   |   |   |   |   |   |--- feature_39 >  0.50\n",
            "|   |   |   |   |   |   |   |   |   |   |--- class: 0\n",
            "|   |   |   |   |   |   |   |   |--- feature_37 >  0.50\n",
            "|   |   |   |   |   |   |   |   |   |--- class: 1\n",
            "|   |   |   |   |   |   |   |--- feature_30 >  0.50\n",
            "|   |   |   |   |   |   |   |   |--- class: 1\n",
            "|   |   |   |   |   |--- feature_10 >  0.50\n",
            "|   |   |   |   |   |   |--- class: 1\n",
            "|   |   |   |   |--- feature_7 >  0.50\n",
            "|   |   |   |   |   |--- class: 1\n",
            "|   |   |   |--- feature_46 >  0.50\n",
            "|   |   |   |   |--- feature_42 <= 0.50\n",
            "|   |   |   |   |   |--- feature_40 <= 0.50\n",
            "|   |   |   |   |   |   |--- feature_26 <= 0.50\n",
            "|   |   |   |   |   |   |   |--- feature_12 <= 0.50\n",
            "|   |   |   |   |   |   |   |   |--- class: 0\n",
            "|   |   |   |   |   |   |   |--- feature_12 >  0.50\n",
            "|   |   |   |   |   |   |   |   |--- class: 0\n",
            "|   |   |   |   |   |   |--- feature_26 >  0.50\n",
            "|   |   |   |   |   |   |   |--- class: 1\n",
            "|   |   |   |   |   |--- feature_40 >  0.50\n",
            "|   |   |   |   |   |   |--- feature_21 <= 0.50\n",
            "|   |   |   |   |   |   |   |--- class: 1\n",
            "|   |   |   |   |   |   |--- feature_21 >  0.50\n",
            "|   |   |   |   |   |   |   |--- feature_25 <= 0.50\n",
            "|   |   |   |   |   |   |   |   |--- class: 1\n",
            "|   |   |   |   |   |   |   |--- feature_25 >  0.50\n",
            "|   |   |   |   |   |   |   |   |--- class: 0\n",
            "|   |   |   |   |--- feature_42 >  0.50\n",
            "|   |   |   |   |   |--- feature_0 <= 0.50\n",
            "|   |   |   |   |   |   |--- class: 1\n",
            "|   |   |   |   |   |--- feature_0 >  0.50\n",
            "|   |   |   |   |   |   |--- feature_27 <= 0.50\n",
            "|   |   |   |   |   |   |   |--- class: 1\n",
            "|   |   |   |   |   |   |--- feature_27 >  0.50\n",
            "|   |   |   |   |   |   |   |--- class: 0\n",
            "|   |   |--- feature_1 >  0.50\n",
            "|   |   |   |--- feature_44 <= 0.50\n",
            "|   |   |   |   |--- class: 0\n",
            "|   |   |   |--- feature_44 >  0.50\n",
            "|   |   |   |   |--- feature_16 <= 0.50\n",
            "|   |   |   |   |   |--- class: 1\n",
            "|   |   |   |   |--- feature_16 >  0.50\n",
            "|   |   |   |   |   |--- class: 0\n",
            "|   |--- feature_38 >  0.50\n",
            "|   |   |--- class: 1\n",
            "\n"
          ]
        }
      ]
    },
    {
      "cell_type": "code",
      "source": [
        "#Plotting the deciision tree.\n",
        "plt.figure(figsize=(25, 14))\n",
        "plot_tree(decision_tree, filled=True, feature_names=x_variables, max_depth=2)\n",
        "plt.show()"
      ],
      "metadata": {
        "colab": {
          "base_uri": "https://localhost:8080/",
          "height": 792
        },
        "id": "QvumH-VR1rdW",
        "outputId": "1f1b11e7-66cd-499e-d508-34cabf414c85"
      },
      "execution_count": 30,
      "outputs": [
        {
          "output_type": "display_data",
          "data": {
            "text/plain": [
              "<Figure size 1800x1008 with 1 Axes>"
            ],
            "image/png": "[encoded data removed]"
          },
          "metadata": {
            "needs_background": "light"
          }
        }
      ]
    },
    {
      "cell_type": "markdown",
      "source": [
        "####Training the Model"
      ],
      "metadata": {
        "id": "FpDr7KqsMA83"
      }
    },
    {
      "cell_type": "code",
      "source": [
        "#Making predictions on training and testing dataset\n",
        "predictions_train = decision_tree.predict(x_train)\n",
        "predictions_test = decision_tree.predict(x_test)"
      ],
      "metadata": {
        "id": "iG45rCwC3csZ"
      },
      "execution_count": 31,
      "outputs": []
    },
    {
      "cell_type": "markdown",
      "source": [
        "####Evaluating with Confusion Matrix and Classification Report"
      ],
      "metadata": {
        "id": "vOmmMv6LkzvF"
      }
    },
    {
      "cell_type": "code",
      "source": [
        "#Plotting confusion matrix for training data set\n",
        "conf_matrix_train = confusion_matrix(y_train, predictions_train, labels=[0, 1])\n",
        "ax = ConfusionMatrixDisplay(conf_matrix_train, display_labels=[0, 1])\n",
        "ax.plot(values_format='', cmap=plt.cm.Greens)\n",
        "plt.show()"
      ],
      "metadata": {
        "colab": {
          "base_uri": "https://localhost:8080/",
          "height": 278
        },
        "id": "61NbRwu_kxRm",
        "outputId": "a2ed6e12-d5e8-4ddc-cf06-eca4c24c650a"
      },
      "execution_count": 32,
      "outputs": [
        {
          "output_type": "display_data",
          "data": {
            "text/plain": [
              "<Figure size 432x288 with 2 Axes>"
            ],
            "image/png": "[encoded data removed]"
          },
          "metadata": {
            "needs_background": "light"
          }
        }
      ]
    },
    {
      "cell_type": "code",
      "source": [
        "#Plotting confusion matrix for testing data set\n",
        "conf_matrix_test = confusion_matrix(y_test, predictions_test, labels=[0, 1])\n",
        "ax = ConfusionMatrixDisplay(conf_matrix_test, display_labels=[0, 1])\n",
        "ax.plot(values_format='', cmap=plt.cm.Reds)\n",
        "plt.show()"
      ],
      "metadata": {
        "colab": {
          "base_uri": "https://localhost:8080/",
          "height": 281
        },
        "id": "ZWz-276SkWm5",
        "outputId": "1d9bd974-3461-46fd-d1e7-a9c46fdee5ad"
      },
      "execution_count": 33,
      "outputs": [
        {
          "output_type": "display_data",
          "data": {
            "text/plain": [
              "<Figure size 432x288 with 2 Axes>"
            ],
            "image/png": "[encoded data removed]"
          },
          "metadata": {
            "needs_background": "light"
          }
        }
      ]
    },
    {
      "cell_type": "code",
      "source": [
        "#Printing classification reports for both sets.\n",
        "print(f\"{'TRAINING SET' :>33}\")\n",
        "print('')\n",
        "print(classification_report(y_train, predictions_train))\n",
        "print('-' * 56)\n",
        "print(f\"{'TESTING SET' :>33}\")\n",
        "print('')\n",
        "print(classification_report(y_test, predictions_test))"
      ],
      "metadata": {
        "colab": {
          "base_uri": "https://localhost:8080/"
        },
        "id": "BIosiE1rl5jE",
        "outputId": "3093f539-5d8f-45b0-b2da-144d3c6dd73e"
      },
      "execution_count": 34,
      "outputs": [
        {
          "output_type": "stream",
          "name": "stdout",
          "text": [
            "                     TRAINING SET\n",
            "\n",
            "              precision    recall  f1-score   support\n",
            "\n",
            "           0       0.98      1.00      0.99      2570\n",
            "           1       1.00      0.84      0.91       311\n",
            "\n",
            "    accuracy                           0.98      2881\n",
            "   macro avg       0.99      0.92      0.95      2881\n",
            "weighted avg       0.98      0.98      0.98      2881\n",
            "\n",
            "--------------------------------------------------------\n",
            "                      TESTING SET\n",
            "\n",
            "              precision    recall  f1-score   support\n",
            "\n",
            "           0       0.91      0.92      0.91      1096\n",
            "           1       0.29      0.25      0.27       140\n",
            "\n",
            "    accuracy                           0.85      1236\n",
            "   macro avg       0.60      0.59      0.59      1236\n",
            "weighted avg       0.84      0.85      0.84      1236\n",
            "\n"
          ]
        }
      ]
    },
    {
      "cell_type": "markdown",
      "source": [
        "####Conclusion"
      ],
      "metadata": {
        "id": "rNiMSEDWoFe8"
      }
    },
    {
      "cell_type": "markdown",
      "source": [
        "The overall perfomance of the model suggests that it has been overfitted. The classification report evidences that the model almost perfectly predicts in the training phase, but the pattern drawn in the testing phase is not actually representative of the testing set. In addition, even though the model performs poorly, it does not behave as a majority classifier as it still makes predictions on \"class 1\" which is not the majority class. Usually, classifying on an imbalanced data set is harder because the probability of the majority class being chosen is higher and, therefore, the model might tend to only predict on the majority class and cause more false predictions."
      ],
      "metadata": {
        "id": "Ey6A8mxHpSI1"
      }
    },
    {
      "cell_type": "markdown",
      "source": [
        "##Naive Bayes Model for Hold-Out Evaluation"
      ],
      "metadata": {
        "id": "faQs8uE7tkho"
      }
    },
    {
      "cell_type": "markdown",
      "source": [
        "####Fitting Naive Bayes Model"
      ],
      "metadata": {
        "id": "LP_E76tCtojd"
      }
    },
    {
      "cell_type": "code",
      "source": [
        "categorical_nb = CategoricalNB()\n",
        "categorical_nb = categorical_nb.fit(x_train, y_train)"
      ],
      "metadata": {
        "id": "KN7jh-VfuLEy"
      },
      "execution_count": 35,
      "outputs": []
    },
    {
      "cell_type": "markdown",
      "source": [
        "####Testing NB Model"
      ],
      "metadata": {
        "id": "loefhCJxuysG"
      }
    },
    {
      "cell_type": "code",
      "source": [
        "nb_predictions_train = categorical_nb.predict(x_train)\n",
        "nb_predictions_test = categorical_nb.predict(x_test)"
      ],
      "metadata": {
        "id": "bOqZPPHbu40W"
      },
      "execution_count": 36,
      "outputs": []
    },
    {
      "cell_type": "markdown",
      "source": [
        "####Evaluating with Confusion Matrix and Classification Report"
      ],
      "metadata": {
        "id": "8blWegCJvKE-"
      }
    },
    {
      "cell_type": "code",
      "source": [
        "#Plotting confusion matrix for training data set\n",
        "nb_conf_matrix_train = confusion_matrix(y_train, nb_predictions_train, labels=[0, 1])\n",
        "ax = ConfusionMatrixDisplay(nb_conf_matrix_train, display_labels=[0, 1])\n",
        "ax.plot(values_format='', cmap=plt.cm.Greens)\n",
        "plt.show()"
      ],
      "metadata": {
        "colab": {
          "base_uri": "https://localhost:8080/",
          "height": 278
        },
        "id": "Q42nJxs8vMB1",
        "outputId": "54ca77a6-dd17-4a53-c685-5c013628b513"
      },
      "execution_count": 37,
      "outputs": [
        {
          "output_type": "display_data",
          "data": {
            "text/plain": [
              "<Figure size 432x288 with 2 Axes>"
            ],
            "image/png": "[encoded data removed]"
          },
          "metadata": {
            "needs_background": "light"
          }
        }
      ]
    },
    {
      "cell_type": "code",
      "source": [
        "#Plotting confusion matrix for testing data set\n",
        "nb_conf_matrix_test = confusion_matrix(y_test, nb_predictions_test, labels=[0, 1])\n",
        "ax = ConfusionMatrixDisplay(nb_conf_matrix_test, display_labels=[0, 1])\n",
        "ax.plot(values_format='', cmap=plt.cm.Reds)\n",
        "plt.show()"
      ],
      "metadata": {
        "colab": {
          "base_uri": "https://localhost:8080/",
          "height": 280
        },
        "id": "Q4OTySbDvZcN",
        "outputId": "f7674018-35b0-487f-9a50-8ccc96401e4f"
      },
      "execution_count": 38,
      "outputs": [
        {
          "output_type": "display_data",
          "data": {
            "text/plain": [
              "<Figure size 432x288 with 2 Axes>"
            ],
            "image/png": "[encoded data removed]"
          },
          "metadata": {
            "needs_background": "light"
          }
        }
      ]
    },
    {
      "cell_type": "code",
      "source": [
        "#Printing classification reports for both sets.\n",
        "print(f\"{'TRAINING SET' :>33}\")\n",
        "print('')\n",
        "print(classification_report(y_train, nb_predictions_train))\n",
        "print('-' * 56)\n",
        "print(f\"{'TESTING SET' :>33}\")\n",
        "print('')\n",
        "print(classification_report(y_test, nb_predictions_test))"
      ],
      "metadata": {
        "colab": {
          "base_uri": "https://localhost:8080/"
        },
        "id": "xwEgayZyvslj",
        "outputId": "d23256c1-7678-41b0-9cb5-f19dd81e3665"
      },
      "execution_count": 39,
      "outputs": [
        {
          "output_type": "stream",
          "name": "stdout",
          "text": [
            "                     TRAINING SET\n",
            "\n",
            "              precision    recall  f1-score   support\n",
            "\n",
            "           0       0.92      0.94      0.93      2570\n",
            "           1       0.44      0.37      0.40       311\n",
            "\n",
            "    accuracy                           0.88      2881\n",
            "   macro avg       0.68      0.66      0.67      2881\n",
            "weighted avg       0.87      0.88      0.88      2881\n",
            "\n",
            "--------------------------------------------------------\n",
            "                      TESTING SET\n",
            "\n",
            "              precision    recall  f1-score   support\n",
            "\n",
            "           0       0.92      0.93      0.92      1096\n",
            "           1       0.41      0.39      0.40       140\n",
            "\n",
            "    accuracy                           0.87      1236\n",
            "   macro avg       0.66      0.66      0.66      1236\n",
            "weighted avg       0.86      0.87      0.87      1236\n",
            "\n"
          ]
        }
      ]
    },
    {
      "cell_type": "markdown",
      "source": [
        "####Conclusion"
      ],
      "metadata": {
        "id": "rdG0HGVjv1Pm"
      }
    },
    {
      "cell_type": "markdown",
      "source": [
        "The overall perfomance of the model suggests that it has been underfitted. The classification report evidences that the pattern drawn by the model in the training phase is not actually representative of the training set. In addition, even though the model performs poorly, it does not behave as a majority classifier as it still makes predictions on \"class 1\" which is not the majority class. In order to fix this behavior, the model's complexity could be increased by either fitting the model with a larger dataset or decreasing parameters that simplify the model if being used, for example."
      ],
      "metadata": {
        "id": "bxb-zPT1v8dK"
      }
    },
    {
      "cell_type": "markdown",
      "source": [
        "##Naive Bayes Model for Cross-Validation"
      ],
      "metadata": {
        "id": "oeahrZJ9xHpZ"
      }
    },
    {
      "cell_type": "code",
      "source": [
        "#Concatenating x's and verifying if parts add up\n",
        "x_concatenated = np.concatenate((x_train, x_test), axis=0)\n",
        "print(x_test.shape, x_train.shape, x_concatenated.shape)"
      ],
      "metadata": {
        "colab": {
          "base_uri": "https://localhost:8080/"
        },
        "id": "9FXaBoaW5y0h",
        "outputId": "ac20fedc-6594-4cf8-851f-e54e6a20fac0"
      },
      "execution_count": 40,
      "outputs": [
        {
          "output_type": "stream",
          "name": "stdout",
          "text": [
            "(1236, 51) (2881, 51) (4117, 51)\n"
          ]
        }
      ]
    },
    {
      "cell_type": "code",
      "source": [
        "#Concatenating y's and verifying if parts add up\n",
        "y_concatenated = np.concatenate((y_train, y_test), axis=0)\n",
        "print(y_test.shape, y_train.shape, y_concatenated.shape)"
      ],
      "metadata": {
        "colab": {
          "base_uri": "https://localhost:8080/"
        },
        "id": "khIQze_Y60Hr",
        "outputId": "66eb39a4-c0d3-4964-e20e-fd741a85ba8c"
      },
      "execution_count": 41,
      "outputs": [
        {
          "output_type": "stream",
          "name": "stdout",
          "text": [
            "(1236,) (2881,) (4117,)\n"
          ]
        }
      ]
    },
    {
      "cell_type": "markdown",
      "source": [
        "####Using Cross Validation with Decision Tree Model"
      ],
      "metadata": {
        "id": "kGSsgVnmNAJF"
      }
    },
    {
      "cell_type": "code",
      "source": [
        "#Creating Decision Tree Classifier object and fitting cross validation model. cv default is 5\n",
        "ff_cv_dt = DecisionTreeClassifier()\n",
        "ff_cross_validation_dt = cross_validate(ff_cv_dt, x_concatenated, y_concatenated)"
      ],
      "metadata": {
        "id": "4yuH1Fjc7How"
      },
      "execution_count": 42,
      "outputs": []
    },
    {
      "cell_type": "code",
      "source": [
        "#Displaying results as dataframe\n",
        "ff_cross_validation_dt_results = cross_validate(ff_cv_dt, x_concatenated, y_concatenated, scoring=['accuracy','precision','recall','f1'], return_train_score=True)\n",
        "ff_cv_dt_df = pd.DataFrame(ff_cross_validation_dt_results)"
      ],
      "metadata": {
        "id": "NvPDVK_gWsUU"
      },
      "execution_count": 43,
      "outputs": []
    },
    {
      "cell_type": "markdown",
      "source": [
        "#### Results for each fold"
      ],
      "metadata": {
        "id": "aq4U5X_VM22s"
      }
    },
    {
      "cell_type": "code",
      "source": [
        "ff_cv_dt_df"
      ],
      "metadata": {
        "colab": {
          "base_uri": "https://localhost:8080/",
          "height": 206
        },
        "id": "w4ElEVI8a4Ih",
        "outputId": "3df9642e-d5d7-474f-8694-20ee15078011"
      },
      "execution_count": 44,
      "outputs": [
        {
          "output_type": "execute_result",
          "data": {
            "text/plain": [
              "   fit_time  score_time  test_accuracy  train_accuracy  test_precision  \\\n",
              "0  0.022522    0.003623       0.854369        0.980869        0.307692   \n",
              "1  0.017707    0.003636       0.831311        0.979957        0.250000   \n",
              "2  0.017111    0.007220       0.833536        0.980267        0.257732   \n",
              "3  0.016649    0.003685       0.862697        0.979660        0.346667   \n",
              "4  0.016989    0.003619       0.839611        0.981481        0.243902   \n",
              "\n",
              "   train_precision  test_recall  train_recall   test_f1  train_f1  \n",
              "0         0.993377     0.266667      0.831025  0.285714  0.904977  \n",
              "1         1.000000     0.263736      0.816667  0.256684  0.899083  \n",
              "2         0.996644     0.277778      0.822715  0.267380  0.901366  \n",
              "3         0.996622     0.288889      0.817175  0.315152  0.898021  \n",
              "4         1.000000     0.222222      0.831025  0.232558  0.907716  "
            ],
            "text/html": [
              "\n",
              "  <div id=\"df-e4920e2f-9cd8-4cf8-8bbf-4e993e19d351\">\n",
              "    <div class=\"colab-df-container\">\n",
              "      <div>\n",
              "<style scoped>\n",
              "    .dataframe tbody tr th:only-of-type {\n",
              "        vertical-align: middle;\n",
              "    }\n",
              "\n",
              "    .dataframe tbody tr th {\n",
              "        vertical-align: top;\n",
              "    }\n",
              "\n",
              "    .dataframe thead th {\n",
              "        text-align: right;\n",
              "    }\n",
              "</style>\n",
              "<table border=\"1\" class=\"dataframe\">\n",
              "  <thead>\n",
              "    <tr style=\"text-align: right;\">\n",
              "      <th></th>\n",
              "      <th>fit_time</th>\n",
              "      <th>score_time</th>\n",
              "      <th>test_accuracy</th>\n",
              "      <th>train_accuracy</th>\n",
              "      <th>test_precision</th>\n",
              "      <th>train_precision</th>\n",
              "      <th>test_recall</th>\n",
              "      <th>train_recall</th>\n",
              "      <th>test_f1</th>\n",
              "      <th>train_f1</th>\n",
              "    </tr>\n",
              "  </thead>\n",
              "  <tbody>\n",
              "    <tr>\n",
              "      <th>0</th>\n",
              "      <td>0.022522</td>\n",
              "      <td>0.003623</td>\n",
              "      <td>0.854369</td>\n",
              "      <td>0.980869</td>\n",
              "      <td>0.307692</td>\n",
              "      <td>0.993377</td>\n",
              "      <td>0.266667</td>\n",
              "      <td>0.831025</td>\n",
              "      <td>0.285714</td>\n",
              "      <td>0.904977</td>\n",
              "    </tr>\n",
              "    <tr>\n",
              "      <th>1</th>\n",
              "      <td>0.017707</td>\n",
              "      <td>0.003636</td>\n",
              "      <td>0.831311</td>\n",
              "      <td>0.979957</td>\n",
              "      <td>0.250000</td>\n",
              "      <td>1.000000</td>\n",
              "      <td>0.263736</td>\n",
              "      <td>0.816667</td>\n",
              "      <td>0.256684</td>\n",
              "      <td>0.899083</td>\n",
              "    </tr>\n",
              "    <tr>\n",
              "      <th>2</th>\n",
              "      <td>0.017111</td>\n",
              "      <td>0.007220</td>\n",
              "      <td>0.833536</td>\n",
              "      <td>0.980267</td>\n",
              "      <td>0.257732</td>\n",
              "      <td>0.996644</td>\n",
              "      <td>0.277778</td>\n",
              "      <td>0.822715</td>\n",
              "      <td>0.267380</td>\n",
              "      <td>0.901366</td>\n",
              "    </tr>\n",
              "    <tr>\n",
              "      <th>3</th>\n",
              "      <td>0.016649</td>\n",
              "      <td>0.003685</td>\n",
              "      <td>0.862697</td>\n",
              "      <td>0.979660</td>\n",
              "      <td>0.346667</td>\n",
              "      <td>0.996622</td>\n",
              "      <td>0.288889</td>\n",
              "      <td>0.817175</td>\n",
              "      <td>0.315152</td>\n",
              "      <td>0.898021</td>\n",
              "    </tr>\n",
              "    <tr>\n",
              "      <th>4</th>\n",
              "      <td>0.016989</td>\n",
              "      <td>0.003619</td>\n",
              "      <td>0.839611</td>\n",
              "      <td>0.981481</td>\n",
              "      <td>0.243902</td>\n",
              "      <td>1.000000</td>\n",
              "      <td>0.222222</td>\n",
              "      <td>0.831025</td>\n",
              "      <td>0.232558</td>\n",
              "      <td>0.907716</td>\n",
              "    </tr>\n",
              "  </tbody>\n",
              "</table>\n",
              "</div>\n",
              "      <button class=\"colab-df-convert\" onclick=\"convertToInteractive('df-e4920e2f-9cd8-4cf8-8bbf-4e993e19d351')\"\n",
              "              title=\"Convert this dataframe to an interactive table.\"\n",
              "              style=\"display:none;\">\n",
              "        \n",
              "  <svg xmlns=\"http://www.w3.org/2000/svg\" height=\"24px\"viewBox=\"0 0 24 24\"\n",
              "       width=\"24px\">\n",
              "    <path d=\"M0 0h24v24H0V0z\" fill=\"none\"/>\n",
              "    <path d=\"M18.56 5.44l.94 2.06.94-2.06 2.06-.94-2.06-.94-.94-2.06-.94 2.06-2.06.94zm-11 1L8.5 8.5l.94-2.06 2.06-.94-2.06-.94L8.5 2.5l-.94 2.06-2.06.94zm10 10l.94 2.06.94-2.06 2.06-.94-2.06-.94-.94-2.06-.94 2.06-2.06.94z\"/><path d=\"M17.41 7.96l-1.37-1.37c-.4-.4-.92-.59-1.43-.59-.52 0-1.04.2-1.43.59L10.3 9.45l-7.72 7.72c-.78.78-.78 2.05 0 2.83L4 21.41c.39.39.9.59 1.41.59.51 0 1.02-.2 1.41-.59l7.78-7.78 2.81-2.81c.8-.78.8-2.07 0-2.86zM5.41 20L4 18.59l7.72-7.72 1.47 1.35L5.41 20z\"/>\n",
              "  </svg>\n",
              "      </button>\n",
              "      \n",
              "  <style>\n",
              "    .colab-df-container {\n",
              "      display:flex;\n",
              "      flex-wrap:wrap;\n",
              "      gap: 12px;\n",
              "    }\n",
              "\n",
              "    .colab-df-convert {\n",
              "      background-color: #E8F0FE;\n",
              "      border: none;\n",
              "      border-radius: 50%;\n",
              "      cursor: pointer;\n",
              "      display: none;\n",
              "      fill: #1967D2;\n",
              "      height: 32px;\n",
              "      padding: 0 0 0 0;\n",
              "      width: 32px;\n",
              "    }\n",
              "\n",
              "    .colab-df-convert:hover {\n",
              "      background-color: #E2EBFA;\n",
              "      box-shadow: 0px 1px 2px rgba(60, 64, 67, 0.3), 0px 1px 3px 1px rgba(60, 64, 67, 0.15);\n",
              "      fill: #174EA6;\n",
              "    }\n",
              "\n",
              "    [theme=dark] .colab-df-convert {\n",
              "      background-color: #3B4455;\n",
              "      fill: #D2E3FC;\n",
              "    }\n",
              "\n",
              "    [theme=dark] .colab-df-convert:hover {\n",
              "      background-color: #434B5C;\n",
              "      box-shadow: 0px 1px 3px 1px rgba(0, 0, 0, 0.15);\n",
              "      filter: drop-shadow(0px 1px 2px rgba(0, 0, 0, 0.3));\n",
              "      fill: #FFFFFF;\n",
              "    }\n",
              "  </style>\n",
              "\n",
              "      <script>\n",
              "        const buttonEl =\n",
              "          document.querySelector('#df-e4920e2f-9cd8-4cf8-8bbf-4e993e19d351 button.colab-df-convert');\n",
              "        buttonEl.style.display =\n",
              "          google.colab.kernel.accessAllowed ? 'block' : 'none';\n",
              "\n",
              "        async function convertToInteractive(key) {\n",
              "          const element = document.querySelector('#df-e4920e2f-9cd8-4cf8-8bbf-4e993e19d351');\n",
              "          const dataTable =\n",
              "            await google.colab.kernel.invokeFunction('convertToInteractive',\n",
              "                                                     [key], {});\n",
              "          if (!dataTable) return;\n",
              "\n",
              "          const docLinkHtml = 'Like what you see? Visit the ' +\n",
              "            '<a target=\"_blank\" href=https://colab.research.google.com/notebooks/data_table.ipynb>data table notebook</a>'\n",
              "            + ' to learn more about interactive tables.';\n",
              "          element.innerHTML = '';\n",
              "          dataTable['output_type'] = 'display_data';\n",
              "          await google.colab.output.renderOutput(dataTable, element);\n",
              "          const docLink = document.createElement('div');\n",
              "          docLink.innerHTML = docLinkHtml;\n",
              "          element.appendChild(docLink);\n",
              "        }\n",
              "      </script>\n",
              "    </div>\n",
              "  </div>\n",
              "  "
            ]
          },
          "metadata": {},
          "execution_count": 44
        }
      ]
    },
    {
      "cell_type": "code",
      "source": [
        "#Finding the mean for each metric in the training and testing test\n",
        "print(f\"Decision Tree Classfier - Five-fold Cross-Validation Training Accuracy: {round(np.mean(ff_cv_dt_df['train_accuracy']), 5)}\")\n",
        "print(f\"Decision Tree Classfier - Five-fold Cross-Validation Training Precision: {round(np.mean(ff_cv_dt_df['train_precision']), 5)}\")\n",
        "print(f\"Decision Tree Classfier - Five-fold Cross-Validation Training Recall: {round(np.mean(ff_cv_dt_df['train_recall']), 5)}\")\n",
        "print(f\"Decision Tree Classfier - Five-fold Cross-Validation Training F-score: {round(np.mean(ff_cv_dt_df['train_f1']), 5)}\")\n",
        "print('')\n",
        "print(f\"Decision Tree Classfier - Five-fold Cross-Validation Testing Accuracy: {round(np.mean(ff_cv_dt_df['test_accuracy']), 5)}\")\n",
        "print(f\"Decision Tree Classfier - Five-fold Cross-Validation Testing Precision: {round(np.mean(ff_cv_dt_df['test_precision']), 5)}\")\n",
        "print(f\"Decision Tree Classfier - Five-fold Cross-Validation Testing Recall: {round(np.mean(ff_cv_dt_df['test_recall']), 5)}\")\n",
        "print(f\"Decision Tree Classfier - Five-fold Cross-Validation Testing F-score: {round(np.mean(ff_cv_dt_df['test_f1']), 5)}\")"
      ],
      "metadata": {
        "colab": {
          "base_uri": "https://localhost:8080/"
        },
        "id": "r4DXTeo7aVLW",
        "outputId": "c606de88-7044-4bec-951f-7fd0fa1aeb68"
      },
      "execution_count": 45,
      "outputs": [
        {
          "output_type": "stream",
          "name": "stdout",
          "text": [
            "Decision Tree Classfier - Five-fold Cross-Validation Training Accuracy: 0.98045\n",
            "Decision Tree Classfier - Five-fold Cross-Validation Training Precision: 0.99733\n",
            "Decision Tree Classfier - Five-fold Cross-Validation Training Recall: 0.82372\n",
            "Decision Tree Classfier - Five-fold Cross-Validation Training F-score: 0.90223\n",
            "\n",
            "Decision Tree Classfier - Five-fold Cross-Validation Testing Accuracy: 0.8443\n",
            "Decision Tree Classfier - Five-fold Cross-Validation Testing Precision: 0.2812\n",
            "Decision Tree Classfier - Five-fold Cross-Validation Testing Recall: 0.26386\n",
            "Decision Tree Classfier - Five-fold Cross-Validation Testing F-score: 0.2715\n"
          ]
        }
      ]
    },
    {
      "cell_type": "markdown",
      "source": [
        "####Using Cross Validation with Naive Bayes Model"
      ],
      "metadata": {
        "id": "Sxb2tvLrZL_o"
      }
    },
    {
      "cell_type": "code",
      "source": [
        "#Creating Categorical Naive Bayes object and fitting cross validation model. cv default is 5\n",
        "ff_cv_nb = CategoricalNB()\n",
        "ff_cross_validation_nb = cross_validate(ff_cv_nb, x_concatenated, y_concatenated)"
      ],
      "metadata": {
        "id": "AJvCcdAbZjHb"
      },
      "execution_count": 46,
      "outputs": []
    },
    {
      "cell_type": "code",
      "source": [
        "#Displaying results as dataframe\n",
        "ff_cross_validation_nb_results = cross_validate(ff_cv_nb, x_concatenated, y_concatenated, scoring=['accuracy','precision','recall','f1'], return_train_score=True)\n",
        "ff_cv_nb_df = pd.DataFrame(ff_cross_validation_nb_results)"
      ],
      "metadata": {
        "id": "lLvcE1z_dFVB"
      },
      "execution_count": 47,
      "outputs": []
    },
    {
      "cell_type": "markdown",
      "source": [
        "#### Results for each fold"
      ],
      "metadata": {
        "id": "ly57GfJZNN8X"
      }
    },
    {
      "cell_type": "code",
      "source": [
        "ff_cv_nb_df"
      ],
      "metadata": {
        "colab": {
          "base_uri": "https://localhost:8080/",
          "height": 206
        },
        "id": "9mVk9FVEdIRb",
        "outputId": "f89eb676-5032-4094-b21e-d1cdc7aa41e5"
      },
      "execution_count": 48,
      "outputs": [
        {
          "output_type": "execute_result",
          "data": {
            "text/plain": [
              "   fit_time  score_time  test_accuracy  train_accuracy  test_precision  \\\n",
              "0  0.013550    0.004370       0.883495        0.885515        0.457143   \n",
              "1  0.008726    0.006219       0.879854        0.887033        0.437500   \n",
              "2  0.008842    0.004721       0.876063        0.877049        0.414286   \n",
              "3  0.009377    0.004322       0.879708        0.880692        0.450549   \n",
              "4  0.009076    0.004294       0.876063        0.879478        0.416667   \n",
              "\n",
              "   train_precision  test_recall  train_recall   test_f1  train_f1  \n",
              "0         0.471223     0.355556      0.362881  0.400000  0.410016  \n",
              "1         0.478571     0.307692      0.372222  0.361290  0.418750  \n",
              "2         0.430818     0.322222      0.379501  0.362500  0.403535  \n",
              "3         0.444056     0.455556      0.351801  0.453039  0.392581  \n",
              "4         0.441558     0.333333      0.376731  0.370370  0.406577  "
            ],
            "text/html": [
              "\n",
              "  <div id=\"df-02f2aea7-2f59-43ec-b99e-79a43cc5fc41\">\n",
              "    <div class=\"colab-df-container\">\n",
              "      <div>\n",
              "<style scoped>\n",
              "    .dataframe tbody tr th:only-of-type {\n",
              "        vertical-align: middle;\n",
              "    }\n",
              "\n",
              "    .dataframe tbody tr th {\n",
              "        vertical-align: top;\n",
              "    }\n",
              "\n",
              "    .dataframe thead th {\n",
              "        text-align: right;\n",
              "    }\n",
              "</style>\n",
              "<table border=\"1\" class=\"dataframe\">\n",
              "  <thead>\n",
              "    <tr style=\"text-align: right;\">\n",
              "      <th></th>\n",
              "      <th>fit_time</th>\n",
              "      <th>score_time</th>\n",
              "      <th>test_accuracy</th>\n",
              "      <th>train_accuracy</th>\n",
              "      <th>test_precision</th>\n",
              "      <th>train_precision</th>\n",
              "      <th>test_recall</th>\n",
              "      <th>train_recall</th>\n",
              "      <th>test_f1</th>\n",
              "      <th>train_f1</th>\n",
              "    </tr>\n",
              "  </thead>\n",
              "  <tbody>\n",
              "    <tr>\n",
              "      <th>0</th>\n",
              "      <td>0.013550</td>\n",
              "      <td>0.004370</td>\n",
              "      <td>0.883495</td>\n",
              "      <td>0.885515</td>\n",
              "      <td>0.457143</td>\n",
              "      <td>0.471223</td>\n",
              "      <td>0.355556</td>\n",
              "      <td>0.362881</td>\n",
              "      <td>0.400000</td>\n",
              "      <td>0.410016</td>\n",
              "    </tr>\n",
              "    <tr>\n",
              "      <th>1</th>\n",
              "      <td>0.008726</td>\n",
              "      <td>0.006219</td>\n",
              "      <td>0.879854</td>\n",
              "      <td>0.887033</td>\n",
              "      <td>0.437500</td>\n",
              "      <td>0.478571</td>\n",
              "      <td>0.307692</td>\n",
              "      <td>0.372222</td>\n",
              "      <td>0.361290</td>\n",
              "      <td>0.418750</td>\n",
              "    </tr>\n",
              "    <tr>\n",
              "      <th>2</th>\n",
              "      <td>0.008842</td>\n",
              "      <td>0.004721</td>\n",
              "      <td>0.876063</td>\n",
              "      <td>0.877049</td>\n",
              "      <td>0.414286</td>\n",
              "      <td>0.430818</td>\n",
              "      <td>0.322222</td>\n",
              "      <td>0.379501</td>\n",
              "      <td>0.362500</td>\n",
              "      <td>0.403535</td>\n",
              "    </tr>\n",
              "    <tr>\n",
              "      <th>3</th>\n",
              "      <td>0.009377</td>\n",
              "      <td>0.004322</td>\n",
              "      <td>0.879708</td>\n",
              "      <td>0.880692</td>\n",
              "      <td>0.450549</td>\n",
              "      <td>0.444056</td>\n",
              "      <td>0.455556</td>\n",
              "      <td>0.351801</td>\n",
              "      <td>0.453039</td>\n",
              "      <td>0.392581</td>\n",
              "    </tr>\n",
              "    <tr>\n",
              "      <th>4</th>\n",
              "      <td>0.009076</td>\n",
              "      <td>0.004294</td>\n",
              "      <td>0.876063</td>\n",
              "      <td>0.879478</td>\n",
              "      <td>0.416667</td>\n",
              "      <td>0.441558</td>\n",
              "      <td>0.333333</td>\n",
              "      <td>0.376731</td>\n",
              "      <td>0.370370</td>\n",
              "      <td>0.406577</td>\n",
              "    </tr>\n",
              "  </tbody>\n",
              "</table>\n",
              "</div>\n",
              "      <button class=\"colab-df-convert\" onclick=\"convertToInteractive('df-02f2aea7-2f59-43ec-b99e-79a43cc5fc41')\"\n",
              "              title=\"Convert this dataframe to an interactive table.\"\n",
              "              style=\"display:none;\">\n",
              "        \n",
              "  <svg xmlns=\"http://www.w3.org/2000/svg\" height=\"24px\"viewBox=\"0 0 24 24\"\n",
              "       width=\"24px\">\n",
              "    <path d=\"M0 0h24v24H0V0z\" fill=\"none\"/>\n",
              "    <path d=\"M18.56 5.44l.94 2.06.94-2.06 2.06-.94-2.06-.94-.94-2.06-.94 2.06-2.06.94zm-11 1L8.5 8.5l.94-2.06 2.06-.94-2.06-.94L8.5 2.5l-.94 2.06-2.06.94zm10 10l.94 2.06.94-2.06 2.06-.94-2.06-.94-.94-2.06-.94 2.06-2.06.94z\"/><path d=\"M17.41 7.96l-1.37-1.37c-.4-.4-.92-.59-1.43-.59-.52 0-1.04.2-1.43.59L10.3 9.45l-7.72 7.72c-.78.78-.78 2.05 0 2.83L4 21.41c.39.39.9.59 1.41.59.51 0 1.02-.2 1.41-.59l7.78-7.78 2.81-2.81c.8-.78.8-2.07 0-2.86zM5.41 20L4 18.59l7.72-7.72 1.47 1.35L5.41 20z\"/>\n",
              "  </svg>\n",
              "      </button>\n",
              "      \n",
              "  <style>\n",
              "    .colab-df-container {\n",
              "      display:flex;\n",
              "      flex-wrap:wrap;\n",
              "      gap: 12px;\n",
              "    }\n",
              "\n",
              "    .colab-df-convert {\n",
              "      background-color: #E8F0FE;\n",
              "      border: none;\n",
              "      border-radius: 50%;\n",
              "      cursor: pointer;\n",
              "      display: none;\n",
              "      fill: #1967D2;\n",
              "      height: 32px;\n",
              "      padding: 0 0 0 0;\n",
              "      width: 32px;\n",
              "    }\n",
              "\n",
              "    .colab-df-convert:hover {\n",
              "      background-color: #E2EBFA;\n",
              "      box-shadow: 0px 1px 2px rgba(60, 64, 67, 0.3), 0px 1px 3px 1px rgba(60, 64, 67, 0.15);\n",
              "      fill: #174EA6;\n",
              "    }\n",
              "\n",
              "    [theme=dark] .colab-df-convert {\n",
              "      background-color: #3B4455;\n",
              "      fill: #D2E3FC;\n",
              "    }\n",
              "\n",
              "    [theme=dark] .colab-df-convert:hover {\n",
              "      background-color: #434B5C;\n",
              "      box-shadow: 0px 1px 3px 1px rgba(0, 0, 0, 0.15);\n",
              "      filter: drop-shadow(0px 1px 2px rgba(0, 0, 0, 0.3));\n",
              "      fill: #FFFFFF;\n",
              "    }\n",
              "  </style>\n",
              "\n",
              "      <script>\n",
              "        const buttonEl =\n",
              "          document.querySelector('#df-02f2aea7-2f59-43ec-b99e-79a43cc5fc41 button.colab-df-convert');\n",
              "        buttonEl.style.display =\n",
              "          google.colab.kernel.accessAllowed ? 'block' : 'none';\n",
              "\n",
              "        async function convertToInteractive(key) {\n",
              "          const element = document.querySelector('#df-02f2aea7-2f59-43ec-b99e-79a43cc5fc41');\n",
              "          const dataTable =\n",
              "            await google.colab.kernel.invokeFunction('convertToInteractive',\n",
              "                                                     [key], {});\n",
              "          if (!dataTable) return;\n",
              "\n",
              "          const docLinkHtml = 'Like what you see? Visit the ' +\n",
              "            '<a target=\"_blank\" href=https://colab.research.google.com/notebooks/data_table.ipynb>data table notebook</a>'\n",
              "            + ' to learn more about interactive tables.';\n",
              "          element.innerHTML = '';\n",
              "          dataTable['output_type'] = 'display_data';\n",
              "          await google.colab.output.renderOutput(dataTable, element);\n",
              "          const docLink = document.createElement('div');\n",
              "          docLink.innerHTML = docLinkHtml;\n",
              "          element.appendChild(docLink);\n",
              "        }\n",
              "      </script>\n",
              "    </div>\n",
              "  </div>\n",
              "  "
            ]
          },
          "metadata": {},
          "execution_count": 48
        }
      ]
    },
    {
      "cell_type": "code",
      "source": [
        "#Finding the mean for each metric in the training and testing test\n",
        "print(f\"Categorical Naive Bayes - Five-fold Cross-Validation Training Accuracy: {round(np.mean(ff_cv_nb_df['train_accuracy']), 5)}\")\n",
        "print(f\"Categorical Naive Bayes - Five-fold Cross-Validation Training Precision: {round(np.mean(ff_cv_nb_df['train_precision']), 5)}\")\n",
        "print(f\"Categorical Naive Bayes - Five-fold Cross-Validation Training Recall: {round(np.mean(ff_cv_nb_df['train_recall']), 5)}\")\n",
        "print(f\"Categorical Naive Bayes - Five-fold Cross-Validation Training F-score: {round(np.mean(ff_cv_nb_df['train_f1']), 5)}\")\n",
        "print('')\n",
        "print(f\"Categorical Naive Bayes - Five-fold Cross-Validation Testing Accuracy: {round(np.mean(ff_cv_nb_df['test_accuracy']), 5)}\")\n",
        "print(f\"Categorical Naive Bayes - Five-fold Cross-Validation Testing Precision: {round(np.mean(ff_cv_nb_df['test_precision']), 5)}\")\n",
        "print(f\"Categorical Naive Bayes - Five-fold Cross-Validation Testing Recall: {round(np.mean(ff_cv_nb_df['test_recall']), 5)}\")\n",
        "print(f\"Categorical Naive Bayes - Five-fold Cross-Validation Testing F-score: {round(np.mean(ff_cv_nb_df['test_f1']), 5)}\")"
      ],
      "metadata": {
        "colab": {
          "base_uri": "https://localhost:8080/"
        },
        "id": "p861EJrwdLel",
        "outputId": "12c3800b-b473-4f3e-8614-c5ddb3d63ceb"
      },
      "execution_count": 49,
      "outputs": [
        {
          "output_type": "stream",
          "name": "stdout",
          "text": [
            "Categorical Naive Bayes - Five-fold Cross-Validation Training Accuracy: 0.88195\n",
            "Categorical Naive Bayes - Five-fold Cross-Validation Training Precision: 0.45325\n",
            "Categorical Naive Bayes - Five-fold Cross-Validation Training Recall: 0.36863\n",
            "Categorical Naive Bayes - Five-fold Cross-Validation Training F-score: 0.40629\n",
            "\n",
            "Categorical Naive Bayes - Five-fold Cross-Validation Testing Accuracy: 0.87904\n",
            "Categorical Naive Bayes - Five-fold Cross-Validation Testing Precision: 0.43523\n",
            "Categorical Naive Bayes - Five-fold Cross-Validation Testing Recall: 0.35487\n",
            "Categorical Naive Bayes - Five-fold Cross-Validation Testing F-score: 0.38944\n"
          ]
        }
      ]
    },
    {
      "cell_type": "markdown",
      "source": [
        "###Repeating Process for a Ten-Fold Cross Validation"
      ],
      "metadata": {
        "id": "Wx4tlw1keXUf"
      }
    },
    {
      "cell_type": "code",
      "source": [
        "#Creating Decision Tree Classifier object and fitting cross validation model.\n",
        "tf_cv_dt = DecisionTreeClassifier()\n",
        "tf_cross_validation_dt = cross_validate(ff_cv_dt, x_concatenated, y_concatenated, cv=10)"
      ],
      "metadata": {
        "id": "siSOQwZxeXGW"
      },
      "execution_count": 50,
      "outputs": []
    },
    {
      "cell_type": "code",
      "source": [
        "#Displaying results as dataframe\n",
        "tf_cross_validation_dt_results = cross_validate(tf_cv_dt, x_concatenated, y_concatenated, scoring=['accuracy','precision','recall','f1'], cv=10, return_train_score=True)\n",
        "tf_cv_dt_df = pd.DataFrame(tf_cross_validation_dt_results)"
      ],
      "metadata": {
        "id": "WvLqMy7OfL74"
      },
      "execution_count": 51,
      "outputs": []
    },
    {
      "cell_type": "code",
      "source": [
        "tf_cv_dt_df"
      ],
      "metadata": {
        "colab": {
          "base_uri": "https://localhost:8080/",
          "height": 362
        },
        "id": "1wqDylUCfQoX",
        "outputId": "eca813e2-e317-4732-c11c-8158722bb314"
      },
      "execution_count": 52,
      "outputs": [
        {
          "output_type": "execute_result",
          "data": {
            "text/plain": [
              "   fit_time  score_time  test_accuracy  train_accuracy  test_precision  \\\n",
              "0  0.025221    0.006431       0.856796        0.979487        0.325000   \n",
              "1  0.019971    0.003210       0.847087        0.979217        0.326923   \n",
              "2  0.020424    0.003162       0.832524        0.978947        0.239130   \n",
              "3  0.023643    0.003222       0.817961        0.979217        0.200000   \n",
              "4  0.019491    0.003160       0.808252        0.979217        0.075000   \n",
              "5  0.020055    0.003205       0.842233        0.979217        0.261905   \n",
              "6  0.019566    0.003119       0.868932        0.977598        0.404762   \n",
              "7  0.023568    0.003190       0.827251        0.979493        0.204545   \n",
              "8  0.020088    0.003299       0.829684        0.980032        0.234043   \n",
              "9  0.023076    0.003232       0.854015        0.979223        0.317073   \n",
              "\n",
              "   train_precision  test_recall  train_recall   test_f1  train_f1  \n",
              "0         0.996988     0.288889      0.815271  0.305882  0.897019  \n",
              "1         0.993994     0.377778      0.815271  0.350515  0.895805  \n",
              "2         1.000000     0.244444      0.807882  0.241758  0.893733  \n",
              "3         1.000000     0.222222      0.810345  0.210526  0.895238  \n",
              "4         0.996979     0.066667      0.812808  0.070588  0.895522  \n",
              "5         0.996979     0.244444      0.812808  0.252874  0.895522  \n",
              "6         0.996914     0.369565      0.797531  0.386364  0.886145  \n",
              "7         0.996988     0.200000      0.815271  0.202247  0.897019  \n",
              "8         0.997006     0.244444      0.820197  0.239130  0.900000  \n",
              "9         1.000000     0.288889      0.810345  0.302326  0.895238  "
            ],
            "text/html": [
              "\n",
              "  <div id=\"df-0322edf2-1ea2-42f9-90ea-320e2d78e0d0\">\n",
              "    <div class=\"colab-df-container\">\n",
              "      <div>\n",
              "<style scoped>\n",
              "    .dataframe tbody tr th:only-of-type {\n",
              "        vertical-align: middle;\n",
              "    }\n",
              "\n",
              "    .dataframe tbody tr th {\n",
              "        vertical-align: top;\n",
              "    }\n",
              "\n",
              "    .dataframe thead th {\n",
              "        text-align: right;\n",
              "    }\n",
              "</style>\n",
              "<table border=\"1\" class=\"dataframe\">\n",
              "  <thead>\n",
              "    <tr style=\"text-align: right;\">\n",
              "      <th></th>\n",
              "      <th>fit_time</th>\n",
              "      <th>score_time</th>\n",
              "      <th>test_accuracy</th>\n",
              "      <th>train_accuracy</th>\n",
              "      <th>test_precision</th>\n",
              "      <th>train_precision</th>\n",
              "      <th>test_recall</th>\n",
              "      <th>train_recall</th>\n",
              "      <th>test_f1</th>\n",
              "      <th>train_f1</th>\n",
              "    </tr>\n",
              "  </thead>\n",
              "  <tbody>\n",
              "    <tr>\n",
              "      <th>0</th>\n",
              "      <td>0.025221</td>\n",
              "      <td>0.006431</td>\n",
              "      <td>0.856796</td>\n",
              "      <td>0.979487</td>\n",
              "      <td>0.325000</td>\n",
              "      <td>0.996988</td>\n",
              "      <td>0.288889</td>\n",
              "      <td>0.815271</td>\n",
              "      <td>0.305882</td>\n",
              "      <td>0.897019</td>\n",
              "    </tr>\n",
              "    <tr>\n",
              "      <th>1</th>\n",
              "      <td>0.019971</td>\n",
              "      <td>0.003210</td>\n",
              "      <td>0.847087</td>\n",
              "      <td>0.979217</td>\n",
              "      <td>0.326923</td>\n",
              "      <td>0.993994</td>\n",
              "      <td>0.377778</td>\n",
              "      <td>0.815271</td>\n",
              "      <td>0.350515</td>\n",
              "      <td>0.895805</td>\n",
              "    </tr>\n",
              "    <tr>\n",
              "      <th>2</th>\n",
              "      <td>0.020424</td>\n",
              "      <td>0.003162</td>\n",
              "      <td>0.832524</td>\n",
              "      <td>0.978947</td>\n",
              "      <td>0.239130</td>\n",
              "      <td>1.000000</td>\n",
              "      <td>0.244444</td>\n",
              "      <td>0.807882</td>\n",
              "      <td>0.241758</td>\n",
              "      <td>0.893733</td>\n",
              "    </tr>\n",
              "    <tr>\n",
              "      <th>3</th>\n",
              "      <td>0.023643</td>\n",
              "      <td>0.003222</td>\n",
              "      <td>0.817961</td>\n",
              "      <td>0.979217</td>\n",
              "      <td>0.200000</td>\n",
              "      <td>1.000000</td>\n",
              "      <td>0.222222</td>\n",
              "      <td>0.810345</td>\n",
              "      <td>0.210526</td>\n",
              "      <td>0.895238</td>\n",
              "    </tr>\n",
              "    <tr>\n",
              "      <th>4</th>\n",
              "      <td>0.019491</td>\n",
              "      <td>0.003160</td>\n",
              "      <td>0.808252</td>\n",
              "      <td>0.979217</td>\n",
              "      <td>0.075000</td>\n",
              "      <td>0.996979</td>\n",
              "      <td>0.066667</td>\n",
              "      <td>0.812808</td>\n",
              "      <td>0.070588</td>\n",
              "      <td>0.895522</td>\n",
              "    </tr>\n",
              "    <tr>\n",
              "      <th>5</th>\n",
              "      <td>0.020055</td>\n",
              "      <td>0.003205</td>\n",
              "      <td>0.842233</td>\n",
              "      <td>0.979217</td>\n",
              "      <td>0.261905</td>\n",
              "      <td>0.996979</td>\n",
              "      <td>0.244444</td>\n",
              "      <td>0.812808</td>\n",
              "      <td>0.252874</td>\n",
              "      <td>0.895522</td>\n",
              "    </tr>\n",
              "    <tr>\n",
              "      <th>6</th>\n",
              "      <td>0.019566</td>\n",
              "      <td>0.003119</td>\n",
              "      <td>0.868932</td>\n",
              "      <td>0.977598</td>\n",
              "      <td>0.404762</td>\n",
              "      <td>0.996914</td>\n",
              "      <td>0.369565</td>\n",
              "      <td>0.797531</td>\n",
              "      <td>0.386364</td>\n",
              "      <td>0.886145</td>\n",
              "    </tr>\n",
              "    <tr>\n",
              "      <th>7</th>\n",
              "      <td>0.023568</td>\n",
              "      <td>0.003190</td>\n",
              "      <td>0.827251</td>\n",
              "      <td>0.979493</td>\n",
              "      <td>0.204545</td>\n",
              "      <td>0.996988</td>\n",
              "      <td>0.200000</td>\n",
              "      <td>0.815271</td>\n",
              "      <td>0.202247</td>\n",
              "      <td>0.897019</td>\n",
              "    </tr>\n",
              "    <tr>\n",
              "      <th>8</th>\n",
              "      <td>0.020088</td>\n",
              "      <td>0.003299</td>\n",
              "      <td>0.829684</td>\n",
              "      <td>0.980032</td>\n",
              "      <td>0.234043</td>\n",
              "      <td>0.997006</td>\n",
              "      <td>0.244444</td>\n",
              "      <td>0.820197</td>\n",
              "      <td>0.239130</td>\n",
              "      <td>0.900000</td>\n",
              "    </tr>\n",
              "    <tr>\n",
              "      <th>9</th>\n",
              "      <td>0.023076</td>\n",
              "      <td>0.003232</td>\n",
              "      <td>0.854015</td>\n",
              "      <td>0.979223</td>\n",
              "      <td>0.317073</td>\n",
              "      <td>1.000000</td>\n",
              "      <td>0.288889</td>\n",
              "      <td>0.810345</td>\n",
              "      <td>0.302326</td>\n",
              "      <td>0.895238</td>\n",
              "    </tr>\n",
              "  </tbody>\n",
              "</table>\n",
              "</div>\n",
              "      <button class=\"colab-df-convert\" onclick=\"convertToInteractive('df-0322edf2-1ea2-42f9-90ea-320e2d78e0d0')\"\n",
              "              title=\"Convert this dataframe to an interactive table.\"\n",
              "              style=\"display:none;\">\n",
              "        \n",
              "  <svg xmlns=\"http://www.w3.org/2000/svg\" height=\"24px\"viewBox=\"0 0 24 24\"\n",
              "       width=\"24px\">\n",
              "    <path d=\"M0 0h24v24H0V0z\" fill=\"none\"/>\n",
              "    <path d=\"M18.56 5.44l.94 2.06.94-2.06 2.06-.94-2.06-.94-.94-2.06-.94 2.06-2.06.94zm-11 1L8.5 8.5l.94-2.06 2.06-.94-2.06-.94L8.5 2.5l-.94 2.06-2.06.94zm10 10l.94 2.06.94-2.06 2.06-.94-2.06-.94-.94-2.06-.94 2.06-2.06.94z\"/><path d=\"M17.41 7.96l-1.37-1.37c-.4-.4-.92-.59-1.43-.59-.52 0-1.04.2-1.43.59L10.3 9.45l-7.72 7.72c-.78.78-.78 2.05 0 2.83L4 21.41c.39.39.9.59 1.41.59.51 0 1.02-.2 1.41-.59l7.78-7.78 2.81-2.81c.8-.78.8-2.07 0-2.86zM5.41 20L4 18.59l7.72-7.72 1.47 1.35L5.41 20z\"/>\n",
              "  </svg>\n",
              "      </button>\n",
              "      \n",
              "  <style>\n",
              "    .colab-df-container {\n",
              "      display:flex;\n",
              "      flex-wrap:wrap;\n",
              "      gap: 12px;\n",
              "    }\n",
              "\n",
              "    .colab-df-convert {\n",
              "      background-color: #E8F0FE;\n",
              "      border: none;\n",
              "      border-radius: 50%;\n",
              "      cursor: pointer;\n",
              "      display: none;\n",
              "      fill: #1967D2;\n",
              "      height: 32px;\n",
              "      padding: 0 0 0 0;\n",
              "      width: 32px;\n",
              "    }\n",
              "\n",
              "    .colab-df-convert:hover {\n",
              "      background-color: #E2EBFA;\n",
              "      box-shadow: 0px 1px 2px rgba(60, 64, 67, 0.3), 0px 1px 3px 1px rgba(60, 64, 67, 0.15);\n",
              "      fill: #174EA6;\n",
              "    }\n",
              "\n",
              "    [theme=dark] .colab-df-convert {\n",
              "      background-color: #3B4455;\n",
              "      fill: #D2E3FC;\n",
              "    }\n",
              "\n",
              "    [theme=dark] .colab-df-convert:hover {\n",
              "      background-color: #434B5C;\n",
              "      box-shadow: 0px 1px 3px 1px rgba(0, 0, 0, 0.15);\n",
              "      filter: drop-shadow(0px 1px 2px rgba(0, 0, 0, 0.3));\n",
              "      fill: #FFFFFF;\n",
              "    }\n",
              "  </style>\n",
              "\n",
              "      <script>\n",
              "        const buttonEl =\n",
              "          document.querySelector('#df-0322edf2-1ea2-42f9-90ea-320e2d78e0d0 button.colab-df-convert');\n",
              "        buttonEl.style.display =\n",
              "          google.colab.kernel.accessAllowed ? 'block' : 'none';\n",
              "\n",
              "        async function convertToInteractive(key) {\n",
              "          const element = document.querySelector('#df-0322edf2-1ea2-42f9-90ea-320e2d78e0d0');\n",
              "          const dataTable =\n",
              "            await google.colab.kernel.invokeFunction('convertToInteractive',\n",
              "                                                     [key], {});\n",
              "          if (!dataTable) return;\n",
              "\n",
              "          const docLinkHtml = 'Like what you see? Visit the ' +\n",
              "            '<a target=\"_blank\" href=https://colab.research.google.com/notebooks/data_table.ipynb>data table notebook</a>'\n",
              "            + ' to learn more about interactive tables.';\n",
              "          element.innerHTML = '';\n",
              "          dataTable['output_type'] = 'display_data';\n",
              "          await google.colab.output.renderOutput(dataTable, element);\n",
              "          const docLink = document.createElement('div');\n",
              "          docLink.innerHTML = docLinkHtml;\n",
              "          element.appendChild(docLink);\n",
              "        }\n",
              "      </script>\n",
              "    </div>\n",
              "  </div>\n",
              "  "
            ]
          },
          "metadata": {},
          "execution_count": 52
        }
      ]
    },
    {
      "cell_type": "code",
      "source": [
        "#Finding the mean for each metric in the training and testing test\n",
        "print(f\"Decision Tree Classfier - Ten-fold Cross-Validation Training Accuracy: {round(np.mean(tf_cv_dt_df['train_accuracy']), 5)}\")\n",
        "print(f\"Decision Tree Classfier - Ten-fold Cross-Validation Training Precision: {round(np.mean(tf_cv_dt_df['train_precision']), 5)}\")\n",
        "print(f\"Decision Tree Classfier - Ten-fold Cross-Validation Training Recall: {round(np.mean(tf_cv_dt_df['train_recall']), 5)}\")\n",
        "print(f\"Decision Tree Classfier - Ten-fold Cross-Validation Training F-score: {round(np.mean(tf_cv_dt_df['train_f1']), 5)}\")\n",
        "print('')\n",
        "print(f\"Decision Tree Classfier - Ten-fold Cross-Validation Testing Accuracy: {round(np.mean(tf_cv_dt_df['test_accuracy']), 5)}\")\n",
        "print(f\"Decision Tree Classfier - Ten-fold Cross-Validation Testing Precision: {round(np.mean(tf_cv_dt_df['test_precision']), 5)}\")\n",
        "print(f\"Decision Tree Classfier - Ten-fold Cross-Validation Testing Recall: {round(np.mean(tf_cv_dt_df['test_recall']), 5)}\")\n",
        "print(f\"Decision Tree Classfier - Ten-fold Cross-Validation Testing F-score: {round(np.mean(tf_cv_dt_df['test_f1']), 5)}\")"
      ],
      "metadata": {
        "colab": {
          "base_uri": "https://localhost:8080/"
        },
        "id": "JbMnx43wfZVX",
        "outputId": "76b21868-a0ca-4c21-c713-0bb10f98c6cd"
      },
      "execution_count": 53,
      "outputs": [
        {
          "output_type": "stream",
          "name": "stdout",
          "text": [
            "Decision Tree Classfier - Ten-fold Cross-Validation Training Accuracy: 0.97916\n",
            "Decision Tree Classfier - Ten-fold Cross-Validation Training Precision: 0.99758\n",
            "Decision Tree Classfier - Ten-fold Cross-Validation Training Recall: 0.81177\n",
            "Decision Tree Classfier - Ten-fold Cross-Validation Training F-score: 0.89512\n",
            "\n",
            "Decision Tree Classfier - Ten-fold Cross-Validation Testing Accuracy: 0.83847\n",
            "Decision Tree Classfier - Ten-fold Cross-Validation Testing Precision: 0.25884\n",
            "Decision Tree Classfier - Ten-fold Cross-Validation Testing Recall: 0.25473\n",
            "Decision Tree Classfier - Ten-fold Cross-Validation Testing F-score: 0.25622\n"
          ]
        }
      ]
    },
    {
      "cell_type": "code",
      "source": [
        "#Creating Categorical Naive Bayes object and fitting cross validation model. cv=10\n",
        "tf_cv_nb = CategoricalNB()\n",
        "tf_cross_validation_nb = cross_validate(tf_cv_nb, x_concatenated, y_concatenated, cv=10)"
      ],
      "metadata": {
        "id": "bjXbFbzsfuIY"
      },
      "execution_count": 54,
      "outputs": []
    },
    {
      "cell_type": "code",
      "source": [
        "#Displaying results as dataframe\n",
        "tf_cross_validation_nb_results = cross_validate(tf_cv_nb, x_concatenated, y_concatenated, scoring=['accuracy','precision','recall','f1'], cv=10, return_train_score=True)\n",
        "tf_cv_nb_df = pd.DataFrame(tf_cross_validation_nb_results)"
      ],
      "metadata": {
        "id": "EuXdG8P1gAlN"
      },
      "execution_count": 55,
      "outputs": []
    },
    {
      "cell_type": "code",
      "source": [
        "tf_cv_nb_df"
      ],
      "metadata": {
        "colab": {
          "base_uri": "https://localhost:8080/",
          "height": 362
        },
        "id": "0SDEbPCEgHE-",
        "outputId": "3891087c-c37b-4fd3-a982-4c56d9678adb"
      },
      "execution_count": 56,
      "outputs": [
        {
          "output_type": "execute_result",
          "data": {
            "text/plain": [
              "   fit_time  score_time  test_accuracy  train_accuracy  test_precision  \\\n",
              "0  0.014886    0.003534       0.888350        0.882051        0.485714   \n",
              "1  0.011544    0.003496       0.876214        0.884750        0.421053   \n",
              "2  0.009465    0.004084       0.881068        0.883671        0.441176   \n",
              "3  0.009277    0.003707       0.881068        0.883131        0.428571   \n",
              "4  0.009740    0.003611       0.873786        0.879892        0.387097   \n",
              "5  0.009518    0.003424       0.873786        0.880432        0.405405   \n",
              "6  0.009205    0.003456       0.905340        0.877733        0.589744   \n",
              "7  0.009183    0.003468       0.856448        0.883162        0.365385   \n",
              "8  0.009345    0.003477       0.888078        0.879655        0.481481   \n",
              "9  0.009344    0.003474       0.871046        0.882083        0.404762   \n",
              "\n",
              "   train_precision  test_recall  train_recall   test_f1  train_f1  \n",
              "0         0.452599     0.377778      0.364532  0.425000  0.403820  \n",
              "1         0.467085     0.355556      0.366995  0.385542  0.411034  \n",
              "2         0.460815     0.333333      0.362069  0.379747  0.405517  \n",
              "3         0.458716     0.266667      0.369458  0.328767  0.409277  \n",
              "4         0.445378     0.266667      0.391626  0.315789  0.416776  \n",
              "5         0.444444     0.333333      0.364532  0.365854  0.400541  \n",
              "6         0.427711     0.500000      0.350617  0.541176  0.385346  \n",
              "7         0.457944     0.422222      0.362069  0.391753  0.404402  \n",
              "8         0.442857     0.288889      0.381773  0.361111  0.410053  \n",
              "9         0.452599     0.377778      0.364532  0.390805  0.403820  "
            ],
            "text/html": [
              "\n",
              "  <div id=\"df-5169e513-deb7-47e4-ac99-dc25044e903a\">\n",
              "    <div class=\"colab-df-container\">\n",
              "      <div>\n",
              "<style scoped>\n",
              "    .dataframe tbody tr th:only-of-type {\n",
              "        vertical-align: middle;\n",
              "    }\n",
              "\n",
              "    .dataframe tbody tr th {\n",
              "        vertical-align: top;\n",
              "    }\n",
              "\n",
              "    .dataframe thead th {\n",
              "        text-align: right;\n",
              "    }\n",
              "</style>\n",
              "<table border=\"1\" class=\"dataframe\">\n",
              "  <thead>\n",
              "    <tr style=\"text-align: right;\">\n",
              "      <th></th>\n",
              "      <th>fit_time</th>\n",
              "      <th>score_time</th>\n",
              "      <th>test_accuracy</th>\n",
              "      <th>train_accuracy</th>\n",
              "      <th>test_precision</th>\n",
              "      <th>train_precision</th>\n",
              "      <th>test_recall</th>\n",
              "      <th>train_recall</th>\n",
              "      <th>test_f1</th>\n",
              "      <th>train_f1</th>\n",
              "    </tr>\n",
              "  </thead>\n",
              "  <tbody>\n",
              "    <tr>\n",
              "      <th>0</th>\n",
              "      <td>0.014886</td>\n",
              "      <td>0.003534</td>\n",
              "      <td>0.888350</td>\n",
              "      <td>0.882051</td>\n",
              "      <td>0.485714</td>\n",
              "      <td>0.452599</td>\n",
              "      <td>0.377778</td>\n",
              "      <td>0.364532</td>\n",
              "      <td>0.425000</td>\n",
              "      <td>0.403820</td>\n",
              "    </tr>\n",
              "    <tr>\n",
              "      <th>1</th>\n",
              "      <td>0.011544</td>\n",
              "      <td>0.003496</td>\n",
              "      <td>0.876214</td>\n",
              "      <td>0.884750</td>\n",
              "      <td>0.421053</td>\n",
              "      <td>0.467085</td>\n",
              "      <td>0.355556</td>\n",
              "      <td>0.366995</td>\n",
              "      <td>0.385542</td>\n",
              "      <td>0.411034</td>\n",
              "    </tr>\n",
              "    <tr>\n",
              "      <th>2</th>\n",
              "      <td>0.009465</td>\n",
              "      <td>0.004084</td>\n",
              "      <td>0.881068</td>\n",
              "      <td>0.883671</td>\n",
              "      <td>0.441176</td>\n",
              "      <td>0.460815</td>\n",
              "      <td>0.333333</td>\n",
              "      <td>0.362069</td>\n",
              "      <td>0.379747</td>\n",
              "      <td>0.405517</td>\n",
              "    </tr>\n",
              "    <tr>\n",
              "      <th>3</th>\n",
              "      <td>0.009277</td>\n",
              "      <td>0.003707</td>\n",
              "      <td>0.881068</td>\n",
              "      <td>0.883131</td>\n",
              "      <td>0.428571</td>\n",
              "      <td>0.458716</td>\n",
              "      <td>0.266667</td>\n",
              "      <td>0.369458</td>\n",
              "      <td>0.328767</td>\n",
              "      <td>0.409277</td>\n",
              "    </tr>\n",
              "    <tr>\n",
              "      <th>4</th>\n",
              "      <td>0.009740</td>\n",
              "      <td>0.003611</td>\n",
              "      <td>0.873786</td>\n",
              "      <td>0.879892</td>\n",
              "      <td>0.387097</td>\n",
              "      <td>0.445378</td>\n",
              "      <td>0.266667</td>\n",
              "      <td>0.391626</td>\n",
              "      <td>0.315789</td>\n",
              "      <td>0.416776</td>\n",
              "    </tr>\n",
              "    <tr>\n",
              "      <th>5</th>\n",
              "      <td>0.009518</td>\n",
              "      <td>0.003424</td>\n",
              "      <td>0.873786</td>\n",
              "      <td>0.880432</td>\n",
              "      <td>0.405405</td>\n",
              "      <td>0.444444</td>\n",
              "      <td>0.333333</td>\n",
              "      <td>0.364532</td>\n",
              "      <td>0.365854</td>\n",
              "      <td>0.400541</td>\n",
              "    </tr>\n",
              "    <tr>\n",
              "      <th>6</th>\n",
              "      <td>0.009205</td>\n",
              "      <td>0.003456</td>\n",
              "      <td>0.905340</td>\n",
              "      <td>0.877733</td>\n",
              "      <td>0.589744</td>\n",
              "      <td>0.427711</td>\n",
              "      <td>0.500000</td>\n",
              "      <td>0.350617</td>\n",
              "      <td>0.541176</td>\n",
              "      <td>0.385346</td>\n",
              "    </tr>\n",
              "    <tr>\n",
              "      <th>7</th>\n",
              "      <td>0.009183</td>\n",
              "      <td>0.003468</td>\n",
              "      <td>0.856448</td>\n",
              "      <td>0.883162</td>\n",
              "      <td>0.365385</td>\n",
              "      <td>0.457944</td>\n",
              "      <td>0.422222</td>\n",
              "      <td>0.362069</td>\n",
              "      <td>0.391753</td>\n",
              "      <td>0.404402</td>\n",
              "    </tr>\n",
              "    <tr>\n",
              "      <th>8</th>\n",
              "      <td>0.009345</td>\n",
              "      <td>0.003477</td>\n",
              "      <td>0.888078</td>\n",
              "      <td>0.879655</td>\n",
              "      <td>0.481481</td>\n",
              "      <td>0.442857</td>\n",
              "      <td>0.288889</td>\n",
              "      <td>0.381773</td>\n",
              "      <td>0.361111</td>\n",
              "      <td>0.410053</td>\n",
              "    </tr>\n",
              "    <tr>\n",
              "      <th>9</th>\n",
              "      <td>0.009344</td>\n",
              "      <td>0.003474</td>\n",
              "      <td>0.871046</td>\n",
              "      <td>0.882083</td>\n",
              "      <td>0.404762</td>\n",
              "      <td>0.452599</td>\n",
              "      <td>0.377778</td>\n",
              "      <td>0.364532</td>\n",
              "      <td>0.390805</td>\n",
              "      <td>0.403820</td>\n",
              "    </tr>\n",
              "  </tbody>\n",
              "</table>\n",
              "</div>\n",
              "      <button class=\"colab-df-convert\" onclick=\"convertToInteractive('df-5169e513-deb7-47e4-ac99-dc25044e903a')\"\n",
              "              title=\"Convert this dataframe to an interactive table.\"\n",
              "              style=\"display:none;\">\n",
              "        \n",
              "  <svg xmlns=\"http://www.w3.org/2000/svg\" height=\"24px\"viewBox=\"0 0 24 24\"\n",
              "       width=\"24px\">\n",
              "    <path d=\"M0 0h24v24H0V0z\" fill=\"none\"/>\n",
              "    <path d=\"M18.56 5.44l.94 2.06.94-2.06 2.06-.94-2.06-.94-.94-2.06-.94 2.06-2.06.94zm-11 1L8.5 8.5l.94-2.06 2.06-.94-2.06-.94L8.5 2.5l-.94 2.06-2.06.94zm10 10l.94 2.06.94-2.06 2.06-.94-2.06-.94-.94-2.06-.94 2.06-2.06.94z\"/><path d=\"M17.41 7.96l-1.37-1.37c-.4-.4-.92-.59-1.43-.59-.52 0-1.04.2-1.43.59L10.3 9.45l-7.72 7.72c-.78.78-.78 2.05 0 2.83L4 21.41c.39.39.9.59 1.41.59.51 0 1.02-.2 1.41-.59l7.78-7.78 2.81-2.81c.8-.78.8-2.07 0-2.86zM5.41 20L4 18.59l7.72-7.72 1.47 1.35L5.41 20z\"/>\n",
              "  </svg>\n",
              "      </button>\n",
              "      \n",
              "  <style>\n",
              "    .colab-df-container {\n",
              "      display:flex;\n",
              "      flex-wrap:wrap;\n",
              "      gap: 12px;\n",
              "    }\n",
              "\n",
              "    .colab-df-convert {\n",
              "      background-color: #E8F0FE;\n",
              "      border: none;\n",
              "      border-radius: 50%;\n",
              "      cursor: pointer;\n",
              "      display: none;\n",
              "      fill: #1967D2;\n",
              "      height: 32px;\n",
              "      padding: 0 0 0 0;\n",
              "      width: 32px;\n",
              "    }\n",
              "\n",
              "    .colab-df-convert:hover {\n",
              "      background-color: #E2EBFA;\n",
              "      box-shadow: 0px 1px 2px rgba(60, 64, 67, 0.3), 0px 1px 3px 1px rgba(60, 64, 67, 0.15);\n",
              "      fill: #174EA6;\n",
              "    }\n",
              "\n",
              "    [theme=dark] .colab-df-convert {\n",
              "      background-color: #3B4455;\n",
              "      fill: #D2E3FC;\n",
              "    }\n",
              "\n",
              "    [theme=dark] .colab-df-convert:hover {\n",
              "      background-color: #434B5C;\n",
              "      box-shadow: 0px 1px 3px 1px rgba(0, 0, 0, 0.15);\n",
              "      filter: drop-shadow(0px 1px 2px rgba(0, 0, 0, 0.3));\n",
              "      fill: #FFFFFF;\n",
              "    }\n",
              "  </style>\n",
              "\n",
              "      <script>\n",
              "        const buttonEl =\n",
              "          document.querySelector('#df-5169e513-deb7-47e4-ac99-dc25044e903a button.colab-df-convert');\n",
              "        buttonEl.style.display =\n",
              "          google.colab.kernel.accessAllowed ? 'block' : 'none';\n",
              "\n",
              "        async function convertToInteractive(key) {\n",
              "          const element = document.querySelector('#df-5169e513-deb7-47e4-ac99-dc25044e903a');\n",
              "          const dataTable =\n",
              "            await google.colab.kernel.invokeFunction('convertToInteractive',\n",
              "                                                     [key], {});\n",
              "          if (!dataTable) return;\n",
              "\n",
              "          const docLinkHtml = 'Like what you see? Visit the ' +\n",
              "            '<a target=\"_blank\" href=https://colab.research.google.com/notebooks/data_table.ipynb>data table notebook</a>'\n",
              "            + ' to learn more about interactive tables.';\n",
              "          element.innerHTML = '';\n",
              "          dataTable['output_type'] = 'display_data';\n",
              "          await google.colab.output.renderOutput(dataTable, element);\n",
              "          const docLink = document.createElement('div');\n",
              "          docLink.innerHTML = docLinkHtml;\n",
              "          element.appendChild(docLink);\n",
              "        }\n",
              "      </script>\n",
              "    </div>\n",
              "  </div>\n",
              "  "
            ]
          },
          "metadata": {},
          "execution_count": 56
        }
      ]
    },
    {
      "cell_type": "code",
      "source": [
        "#Finding the mean for each metric in the training and testing test\n",
        "print(f\"Categorical Naive Bayes - Ten-fold Cross-Validation Training Accuracy: {round(np.mean(tf_cv_nb_df['train_accuracy']), 5)}\")\n",
        "print(f\"Categorical Naive Bayes - Ten-fold Cross-Validation Training Precision: {round(np.mean(tf_cv_nb_df['train_precision']), 5)}\")\n",
        "print(f\"Categorical Naive Bayes - Ten-fold Cross-Validation Training Recall: {round(np.mean(tf_cv_nb_df['train_recall']), 5)}\")\n",
        "print(f\"Categorical Naive Bayes - Ten-fold Cross-Validation Training F-score: {round(np.mean(tf_cv_nb_df['train_f1']), 5)}\")\n",
        "print('')\n",
        "print(f\"Categorical Naive Bayes - Ten-fold Cross-Validation Testing Accuracy: {round(np.mean(tf_cv_nb_df['test_accuracy']), 5)}\")\n",
        "print(f\"Categorical Naive Bayes - Ten-fold Cross-Validation Testing Precision: {round(np.mean(tf_cv_nb_df['test_precision']), 5)}\")\n",
        "print(f\"Categorical Naive Bayes - Ten-fold Cross-Validation Testing Recall: {round(np.mean(tf_cv_nb_df['test_recall']), 5)}\")\n",
        "print(f\"Categorical Naive Bayes - Ten-fold Cross-Validation Testing F-score: {round(np.mean(tf_cv_nb_df['test_f1']), 5)}\")"
      ],
      "metadata": {
        "colab": {
          "base_uri": "https://localhost:8080/"
        },
        "id": "gujHJhv0gOe8",
        "outputId": "3924d21f-4cea-451e-d89d-0a90b2c5145a"
      },
      "execution_count": 57,
      "outputs": [
        {
          "output_type": "stream",
          "name": "stdout",
          "text": [
            "Categorical Naive Bayes - Ten-fold Cross-Validation Training Accuracy: 0.88166\n",
            "Categorical Naive Bayes - Ten-fold Cross-Validation Training Precision: 0.45101\n",
            "Categorical Naive Bayes - Ten-fold Cross-Validation Training Recall: 0.36782\n",
            "Categorical Naive Bayes - Ten-fold Cross-Validation Training F-score: 0.40506\n",
            "\n",
            "Categorical Naive Bayes - Ten-fold Cross-Validation Testing Accuracy: 0.87952\n",
            "Categorical Naive Bayes - Ten-fold Cross-Validation Testing Precision: 0.44104\n",
            "Categorical Naive Bayes - Ten-fold Cross-Validation Testing Recall: 0.35222\n",
            "Categorical Naive Bayes - Ten-fold Cross-Validation Testing F-score: 0.38855\n"
          ]
        }
      ]
    },
    {
      "cell_type": "markdown",
      "source": [
        "####Conclusions"
      ],
      "metadata": {
        "id": "S7yROL36pqkT"
      }
    },
    {
      "cell_type": "markdown",
      "source": [
        "In general all 4 models perform poorly. Analyzing the two models elaborated using five-fold cross validation, while the DecisionTreeClassifier was overfitted, the Categorical Naive Bayes indicates an underfitting behavior. The same is true when comparing both models using the ten-fold cross validatidation. In general, regardless of the number of folds, Decision Trees and CategoricalNBs behave very similarly."
      ],
      "metadata": {
        "id": "PiUmtSBWqbAd"
      }
    },
    {
      "cell_type": "markdown",
      "source": [
        "Train-test hold-out is a technique that consists of splitting the dataset based on a specfic percetage (e.g., 70% for training and 30% for testing). This way, only the training set is used to fit the model whereas the testing set is treated as a totally unknown dataset that is used for predictions. Cross validation, on the other hand, divides the dataset into folds and each fold will be used as the testing set once. If the cross-validation is not using a hold-out approach, then the \"testing fold\" is also included in the training phase. If the cross-validation is using a true hold-out, then only one fold is used for testing and the remainder will constitue a training set with a validation fold. Thus, in practice, if there are 5 folds in total, 1 will be exclusively used for testing and the other 4 will consitute 4 different training sets where on each model one of those 4 folds will be the validation/pseudo-test."
      ],
      "metadata": {
        "id": "G1IdDp9Rzxz-"
      }
    }
  ]
}